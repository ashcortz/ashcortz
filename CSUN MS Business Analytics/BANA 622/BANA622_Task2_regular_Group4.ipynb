{
  "cells": [
    {
      "cell_type": "code",
      "execution_count": null,
      "metadata": {
        "colab": {
          "base_uri": "https://localhost:8080/"
        },
        "id": "dWM0yQVZsOwu",
        "outputId": "88ccfcce-2bc4-48d3-e670-5e84a0880984"
      },
      "outputs": [
        {
          "output_type": "stream",
          "name": "stdout",
          "text": [
            "Enter the name of a class you are taking. Enter 'done' when finished: bana 622\n",
            "Enter the name of the assignment for this class: final project\n",
            "Enter the week due for the assignment: 14\n",
            "Enter the name of a class you are taking. Enter 'done' when finished: done\n",
            "\n",
            "Final List of Assignments and Their Due Weeks:\n",
            "Class: bana 622, Assignment: final project, Week Due: 14\n"
          ]
        }
      ],
      "source": [
        "# First we create a list that will store assignment details, that can be accessed globally\n",
        "assignments = []\n",
        "\n",
        "# Define the custom Academic Planner function\n",
        "def collectAssignments():\n",
        "    global assignments  # Access the global assignments list\n",
        "    while True:\n",
        "        className = input(\"Enter the name of a class you are taking. Enter 'done' when finished: \")\n",
        "        if className.lower() == 'done':\n",
        "            break\n",
        "        assignmentName = input(\"Enter the name of the assignment for this class: \")\n",
        "        weekDue = input(\"Enter the week due for the assignment: \")\n",
        "\n",
        "        assignments.append({\n",
        "            'Class Name': className,\n",
        "            'Assignment Name': assignmentName,\n",
        "            'Week Due': int(weekDue)  # Convert week_due to integer for sorting\n",
        "        })\n",
        "\n",
        "def main():\n",
        "    collectAssignments()\n",
        "\n",
        "    # Sort assignments by the 'Week Due' key\n",
        "    assignments.sort(key=lambda x: x['Week Due'])\n",
        "\n",
        "    print(\"\\nFinal List of Assignments and Their Due Weeks:\")\n",
        "    for assignment in assignments:\n",
        "        print(f\"Class: {assignment['Class Name']}, Assignment: {assignment['Assignment Name']}, Week Due: {assignment['Week Due']}\")\n",
        "\n",
        "if __name__ == \"__main__\":\n",
        "    main()"
      ]
    },
    {
      "cell_type": "code",
      "execution_count": null,
      "metadata": {
        "colab": {
          "base_uri": "https://localhost:8080/"
        },
        "id": "2qmVTUufIi4s",
        "outputId": "cb8ee55f-7b6d-4ca4-f7d5-653e8c8440d9"
      },
      "outputs": [
        {
          "output_type": "stream",
          "name": "stdout",
          "text": [
            "Enter the name of a class you are taking. Enter 'done' when finished: bana622\n",
            "Enter the name of the assignment for this class: hw1\n",
            "Enter the week due for the assignment: 1\n",
            "Enter the name of a class you are taking. Enter 'done' when finished: bana622\n",
            "Enter the name of the assignment for this class: hw2\n",
            "Enter the week due for the assignment: 2\n",
            "Enter the name of a class you are taking. Enter 'done' when finished: bana622\n",
            "Enter the name of the assignment for this class: hw3\n",
            "Enter the week due for the assignment: 3\n",
            "Enter the name of a class you are taking. Enter 'done' when finished: bana622\n",
            "Enter the name of the assignment for this class: hw4\n",
            "Enter the week due for the assignment: 4\n",
            "Enter the name of a class you are taking. Enter 'done' when finished: bana622\n",
            "Enter the name of the assignment for this class: hw5\n",
            "Enter the week due for the assignment: 5\n",
            "Enter the name of a class you are taking. Enter 'done' when finished: bana622\n",
            "Enter the name of the assignment for this class: hw6\n",
            "Enter the week due for the assignment: 6\n",
            "Enter the name of a class you are taking. Enter 'done' when finished: done\n",
            "\n",
            "Final List of Assignments and Their Due Weeks:\n",
            "Class: bana 622, Assignment: hw1, Week Due: 1\n",
            "Class: bana622, Assignment: hw1, Week Due: 1\n",
            "Class: bana622, Assignment: hw1, Week Due: 1\n",
            "Class: bana622, Assignment: hw1, Week Due: 1\n",
            "Class: bana622, Assignment: hw1, Week Due: 1\n",
            "Class: bana622, Assignment: hw1, Week Due: 1\n",
            "Class: bana622, Assignment: hw1, Week Due: 1\n",
            "Class: ban622, Assignment: hw1, Week Due: 1\n",
            "Class: bana622, Assignment: hw1, Week Due: 1\n",
            "Class: bana622, Assignment: hw1, Week Due: 1\n",
            "Class: bana622, Assignment: hw1, Week Due: 1\n",
            "Class: bana622, Assignment: hw2, Week Due: 2\n",
            "Class: bana622, Assignment: hw2, Week Due: 2\n",
            "Class: bana622, Assignment: hw2, Week Due: 2\n",
            "Class: bana622, Assignment: hw2, Week Due: 2\n",
            "Class: bana622, Assignment: hw2, Week Due: 2\n",
            "Class: bana622, Assignment: bwe2, Week Due: 2\n",
            "Class: bana622, Assignment: 2, Week Due: 2\n",
            "Class: bana622, Assignment: hw2, Week Due: 2\n",
            "Class: bana622, Assignment: hw2, Week Due: 2\n",
            "Class: bana622, Assignment: hw2, Week Due: 2\n",
            "Class: bana622, Assignment: hw3, Week Due: 3\n",
            "Class: bana622, Assignment: hw3, Week Due: 3\n",
            "Class: bana622, Assignment: hw3, Week Due: 3\n",
            "Class: bana622, Assignment: 3, Week Due: 3\n",
            "Class: bana622, Assignment: hw3, Week Due: 3\n",
            "Class: bana622, Assignment: hw3, Week Due: 3\n",
            "Class: bana622, Assignment: hw3, Week Due: 3\n",
            "Class: bana622, Assignment: hw3, Week Due: 3\n",
            "Class: bana622, Assignment: hw3, Week Due: 3\n",
            "Class: bana622, Assignment: hw4, Week Due: 4\n",
            "Class: bana622, Assignment: hw4, Week Due: 4\n",
            "Class: bana622, Assignment: hw4, Week Due: 4\n",
            "Class: bana622, Assignment: hw4, Week Due: 4\n",
            "Class: bana622, Assignment: hw4, Week Due: 4\n",
            "Class: bana622, Assignment: hw4, Week Due: 4\n",
            "Class: bana622, Assignment: hw4, Week Due: 4\n",
            "Class: bana622, Assignment: hw4, Week Due: 4\n",
            "Class: bana622, Assignment: hw4, Week Due: 4\n",
            "Class: bana622, Assignment: hw5, Week Due: 5\n",
            "Class: bana622, Assignment: hw5, Week Due: 5\n",
            "Class: bana622, Assignment: hw5, Week Due: 5\n",
            "Class: bana622, Assignment: hw5, Week Due: 5\n",
            "Class: bana622, Assignment: hw5, Week Due: 5\n",
            "Class: bana622, Assignment: hw6, Week Due: 6\n",
            "Class: bana622, Assignment: hw6, Week Due: 6\n",
            "Class: bana 622, Assignment: final project, Week Due: 14\n",
            "Execution Time: 32.55236220359802 seconds\n"
          ]
        }
      ],
      "source": [
        "import time\n",
        "\n",
        "start_time = time.time()\n",
        "main()\n",
        "end_time = time.time()\n",
        "execution_time = end_time - start_time\n",
        "print(\"Execution Time:\", execution_time, \"seconds\")"
      ]
    },
    {
      "cell_type": "code",
      "source": [
        "python -m memory_profiler projectacregular.py"
      ],
      "metadata": {
        "colab": {
          "base_uri": "https://localhost:8080/",
          "height": 106
        },
        "id": "mxWbaLk2m64E",
        "outputId": "790c1610-bff5-447f-dd6f-26183a964890"
      },
      "execution_count": null,
      "outputs": [
        {
          "output_type": "error",
          "ename": "SyntaxError",
          "evalue": "invalid syntax (<ipython-input-33-b7098b713ebd>, line 1)",
          "traceback": [
            "\u001b[0;36m  File \u001b[0;32m\"<ipython-input-33-b7098b713ebd>\"\u001b[0;36m, line \u001b[0;32m1\u001b[0m\n\u001b[0;31m    python -m memory_profiler projectacregular.py\u001b[0m\n\u001b[0m              ^\u001b[0m\n\u001b[0;31mSyntaxError\u001b[0m\u001b[0;31m:\u001b[0m invalid syntax\n"
          ]
        }
      ]
    }
  ],
  "metadata": {
    "colab": {
      "provenance": []
    },
    "kernelspec": {
      "display_name": "Python 3",
      "name": "python3"
    },
    "language_info": {
      "name": "python"
    }
  },
  "nbformat": 4,
  "nbformat_minor": 0
}