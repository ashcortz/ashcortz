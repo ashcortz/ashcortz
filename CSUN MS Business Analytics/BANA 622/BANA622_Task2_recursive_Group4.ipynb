{
  "nbformat": 4,
  "nbformat_minor": 0,
  "metadata": {
    "colab": {
      "provenance": []
    },
    "kernelspec": {
      "name": "python3",
      "display_name": "Python 3"
    },
    "language_info": {
      "name": "python"
    }
  },
  "cells": [
    {
      "cell_type": "code",
      "execution_count": null,
      "metadata": {
        "colab": {
          "base_uri": "https://localhost:8080/"
        },
        "id": "l8wiuEyDP5Ns",
        "outputId": "ddd7b635-0310-4c2c-9146-e43087d6d8ac"
      },
      "outputs": [
        {
          "output_type": "stream",
          "name": "stdout",
          "text": [
            "\n",
            "Final List of Assignments and Their Due Weeks:\n"
          ]
        }
      ],
      "source": [
        "assignments = []\n",
        "\n",
        "def collectAssignmentsRec(assignments):\n",
        "    className = input(\"Enter the name of a class you are taking. Enter 'done' when finished: \")\n",
        "    if className.lower() == 'done':\n",
        "        return\n",
        "\n",
        "    assignmentName = input(\"Enter the name of the assignment for this class: \")\n",
        "    weekDue = input(\"Enter the week due for the assignment: \")\n",
        "\n",
        "    assignments.append({\n",
        "        'Class Name': className,\n",
        "        'Assignment Name': assignmentName,\n",
        "        'Week Due': int(weekDue)  # Convert weekDue to an integer for sorting\n",
        "    })\n",
        "\n",
        "    collectAssignmentsRec(assignments)  # Recursive call to collect more assignments\n",
        "\n",
        "def main():\n",
        "\n",
        "    # Start the recursive collection\n",
        "    collectAssignmentsRec(assignments)\n",
        "\n",
        "    # Sort assignments by the 'Week Due' key\n",
        "    assignments.sort(key=lambda x: x['Week Due'])\n",
        "\n",
        "    print(\"\\nFinal List of Assignments and Their Due Weeks:\")\n",
        "    for assignment in assignments:\n",
        "        print(f\"Class: {assignment['Class Name']}, Assignment: {assignment['Assignment Name']}, Week Due: {assignment['Week Due']}\")\n",
        "\n",
        "if __name__ == \"__main__\":\n",
        "    main()"
      ]
    },
    {
      "cell_type": "code",
      "source": [
        "import time\n",
        "\n",
        "start_time = time.time()\n",
        "main()\n",
        "end_time = time.time()\n",
        "execution_time = end_time - start_time\n",
        "print(\"Execution Time:\", execution_time, \"seconds\")"
      ],
      "metadata": {
        "colab": {
          "base_uri": "https://localhost:8080/"
        },
        "id": "F5miFVDiSz9s",
        "outputId": "ea81d3ee-3823-4ea0-ca10-fadac585810d"
      },
      "execution_count": null,
      "outputs": [
        {
          "output_type": "stream",
          "name": "stdout",
          "text": [
            "Enter the name of a class you are taking. Enter 'done' when finished: bana622\n",
            "Enter the name of the assignment for this class: 1\n",
            "Enter the week due for the assignment: 1\n",
            "Enter the name of a class you are taking. Enter 'done' when finished: bana622\n",
            "Enter the name of the assignment for this class: hw1\n",
            "Enter the week due for the assignment: 2\n",
            "Enter the name of a class you are taking. Enter 'done' when finished: bana622\n",
            "Enter the name of the assignment for this class: hw2\n",
            "Enter the week due for the assignment: 3\n",
            "Enter the name of a class you are taking. Enter 'done' when finished: bana622\n",
            "Enter the name of the assignment for this class: he\n",
            "Enter the week due for the assignment: 4\n",
            "Enter the name of a class you are taking. Enter 'done' when finished: bana622\n",
            "Enter the name of the assignment for this class: hw1\n",
            "Enter the week due for the assignment: 5\n",
            "Enter the name of a class you are taking. Enter 'done' when finished: done\n",
            "\n",
            "Final List of Assignments and Their Due Weeks:\n",
            "Class: bana622, Assignment: hw1, Week Due: 1\n",
            "Class: bana622, Assignment: hw1, Week Due: 1\n",
            "Class: bana622, Assignment: hw1, Week Due: 1\n",
            "Class: bana622, Assignment: 1, Week Due: 1\n",
            "Class: bana622, Assignment: hw2, Week Due: 2\n",
            "Class: bana622, Assignment: hw2, Week Due: 2\n",
            "Class: bana622, Assignment: hw1, Week Due: 2\n",
            "Class: bana622, Assignment: hw3, Week Due: 3\n",
            "Class: bana622, Assignment: hw2, Week Due: 3\n",
            "Class: bana622, Assignment: hw3, Week Due: 3\n",
            "Class: bana622, Assignment: hw3, Week Due: 3\n",
            "Class: bana622, Assignment: hw2, Week Due: 3\n",
            "Class: bana622, Assignment: hw4, Week Due: 4\n",
            "Class: bana622, Assignment: he, Week Due: 4\n",
            "Class: bana622, Assignment: hw1, Week Due: 5\n",
            "Class: bana622, Assignment: final project, Week Due: 14\n",
            "Execution Time: 33.05027961730957 seconds\n"
          ]
        }
      ]
    }
  ]
}