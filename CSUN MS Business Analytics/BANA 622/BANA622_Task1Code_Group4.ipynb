{
  "nbformat": 4,
  "nbformat_minor": 0,
  "metadata": {
    "colab": {
      "provenance": []
    },
    "kernelspec": {
      "name": "python3",
      "display_name": "Python 3"
    },
    "language_info": {
      "name": "python"
    }
  },
  "cells": [
    {
      "cell_type": "code",
      "execution_count": 1,
      "metadata": {
        "id": "ZM7HDnHsrR8p"
      },
      "outputs": [],
      "source": [
        "# Get user input for the list they'd like to search\n",
        "def getListInput():\n",
        "    while True:\n",
        "        numList = input(\"Enter a list of numbers separated by commas: \")\n",
        "        inputList = numList.split(',')\n",
        "        try:\n",
        "            inputList = [int(num.strip()) for num in inputList]\n",
        "            return inputList\n",
        "        except ValueError:\n",
        "            print(\"Invalid entry, please enter only numeric values in the list\")\n"
      ]
    },
    {
      "cell_type": "code",
      "source": [
        "# Get user input for the number they'd like to search\n",
        "def searchNum():\n",
        "    while True:\n",
        "        try:\n",
        "            userSearch = int(input(\"Enter the number you want to search for in the list: \"))\n",
        "            return userSearch\n",
        "        except ValueError:\n",
        "            print(\"Invalid entry, please enter a numeric value.\")"
      ],
      "metadata": {
        "id": "06q6yNaDu5dV"
      },
      "execution_count": 2,
      "outputs": []
    },
    {
      "cell_type": "code",
      "source": [
        "# Search for the desired number in the list, one number at a time (linearSearch)\n",
        "def linearSearch(numList,userSearch):\n",
        "    for indexPosition1, num in enumerate(numList):\n",
        "        if num == userSearch:\n",
        "            return indexPosition1\n",
        "    return -1"
      ],
      "metadata": {
        "id": "L1vwsxTuy0L_"
      },
      "execution_count": 3,
      "outputs": []
    },
    {
      "cell_type": "code",
      "source": [
        "# Search for the desired number in the list, one number at a time & recursively (linearSearchRec)\n",
        "def linearSearchRec(numList, userSearch, indexPosition2 = 0):\n",
        "    if indexPosition2 >= len(numList):\n",
        "        return -1\n",
        "    if numList[indexPosition2] == userSearch:\n",
        "        return indexPosition2\n",
        "    return linearSearchRec(numList, userSearch, indexPosition2 + 1)"
      ],
      "metadata": {
        "id": "IRGRmDLA6tRT"
      },
      "execution_count": 4,
      "outputs": []
    },
    {
      "cell_type": "code",
      "source": [
        "# Search for the desired number in the list, using binary search methods\n",
        "def binarySearch(numList, userSearch):\n",
        "    left = 0\n",
        "    right = (len(numList)-1)\n",
        "    while left <= right:\n",
        "        midpoint = (left + right) //2\n",
        "        if userSearch == numList[midpoint]:\n",
        "            return midpoint\n",
        "        elif userSearch < numList[midpoint]:\n",
        "            right = midpoint - 1\n",
        "        else:\n",
        "            left = midpoint + 1\n",
        "    return -1"
      ],
      "metadata": {
        "id": "CkYMRqil9WCI"
      },
      "execution_count": 5,
      "outputs": []
    },
    {
      "cell_type": "code",
      "source": [
        "# Search for the desired number in the list, using binary search methods, recursively\n",
        "def binarySearchRec(numList, userSearch, left=0, right=None):\n",
        "    if right is None:\n",
        "        right = len(numList) - 1\n",
        "\n",
        "    if left <= right:\n",
        "        midpoint = (left + right) // 2\n",
        "        if userSearch == numList[midpoint]:\n",
        "            return midpoint\n",
        "        elif userSearch < numList[midpoint]:\n",
        "            return binarySearchRec(numList, userSearch, left, midpoint - 1)\n",
        "        else:\n",
        "            return binarySearchRec(numList, userSearch, midpoint + 1, right)\n",
        "    else:\n",
        "        return -1"
      ],
      "metadata": {
        "id": "iP-te0eO9eR_"
      },
      "execution_count": 6,
      "outputs": []
    },
    {
      "cell_type": "code",
      "source": [
        "def main():\n",
        "    userList = getListInput()\n",
        "    userSearch = searchNum()\n",
        "    indexPositionLinearReg = linearSearch(userList,userSearch)\n",
        "    indexPositionLinearRec = linearSearchRec(userList,userSearch)\n",
        "    indexPositionBinaryReg = binarySearch(userList, userSearch)\n",
        "    indexPositionBinaryRec = binarySearchRec(userList, userSearch)\n",
        "\n",
        "    print(\"You entered the following list of numbers: \", userList)\n",
        "    print(\"You entered the following number to search: \", userSearch)\n",
        "    if indexPositionLinearReg == -1:\n",
        "        print(\"linearSearch Results = The number you searched for was not found in the list provided.\")\n",
        "    else:\n",
        "        print(\"linearSearch Results = The number you searched for was found at index position:\",indexPositionLinearReg)\n",
        "    if indexPositionLinearRec == -1:\n",
        "        print(\"linearSearchRec Results = The number you searched for was not found in the list provided.\")\n",
        "    else:\n",
        "        print(\"linearSearchRec Results = The number you searched for was found at index position:\",indexPositionLinearRec)\n",
        "    if indexPositionBinaryReg == -1:\n",
        "        print(\"binarySearchReg Results = The number you searched for was not found in the list.\")\n",
        "    else:\n",
        "        print(\"binarySearchReg Results = The number you searched for was found at index position:\",indexPositionBinaryReg)\n",
        "    if indexPositionBinaryRec == -1:\n",
        "        print(\"binarySearchReg Results = The number you searched for was not found in the list.\")\n",
        "    else:\n",
        "        print(\"binarySearchReg Results = The number you searched for was found at index position:\",indexPositionBinaryRec)\n",
        "if __name__ ==\"__main__\":\n",
        "    main()"
      ],
      "metadata": {
        "colab": {
          "base_uri": "https://localhost:8080/",
          "height": 0
        },
        "id": "2n7-7u5juPZP",
        "outputId": "fff9dd01-a5be-4017-c6bd-71ee252fb8db"
      },
      "execution_count": 7,
      "outputs": [
        {
          "output_type": "stream",
          "name": "stdout",
          "text": [
            "Enter a list of numbers separated by commas: 1,2,3\n",
            "Enter the number you want to search for in the list: 3\n",
            "You entered the following list of numbers:  [1, 2, 3]\n",
            "You entered the following number to search:  3\n",
            "linearSearch Results = The number you searched for was found at index position: 2\n",
            "linearSearchRec Results = The number you searched for was found at index position: 2\n",
            "binarySearchReg Results = The number you searched for was found at index position: 2\n",
            "binarySearchReg Results = The number you searched for was found at index position: 2\n"
          ]
        }
      ]
    },
    {
      "cell_type": "code",
      "source": [
        "import time\n",
        "userList = getListInput()\n",
        "userSearch = searchNum()"
      ],
      "metadata": {
        "colab": {
          "base_uri": "https://localhost:8080/",
          "height": 0
        },
        "id": "4eCjerjIDASQ",
        "outputId": "2d3a502e-bb19-43ab-e495-7b3b6ee39ddf"
      },
      "execution_count": 13,
      "outputs": [
        {
          "name": "stdout",
          "output_type": "stream",
          "text": [
            "Enter a list of numbers separated by commas: 1,4,5,7,6,8,9\n",
            "Enter the number you want to search for in the list: 6\n"
          ]
        }
      ]
    },
    {
      "cell_type": "code",
      "source": [
        "# Time measurement - Linear Search (Regular)\n",
        "start_time = time.time()\n",
        "indexPositionLinearReg = linearSearch(userList,userSearch)\n",
        "print(\"You entered the following list of numbers: \", userList)\n",
        "print(\"You entered the following number to search: \", userSearch)\n",
        "if indexPositionLinearReg == -1:\n",
        "    print(\"linearSearch Results = The number you searched for was not found in the list provided.\")\n",
        "else:\n",
        "    print(\"linearSearch Results = The number you searched for was found at index position:\",indexPositionLinearReg)\n",
        "end_time = time.time()\n",
        "execution_time = end_time - start_time\n",
        "print(\"Execution Time:\", execution_time, \"seconds\")"
      ],
      "metadata": {
        "colab": {
          "base_uri": "https://localhost:8080/",
          "height": 0
        },
        "id": "8tzehdzAETAj",
        "outputId": "1c8c0a14-aebd-4942-eac7-deebe2a0414e"
      },
      "execution_count": 22,
      "outputs": [
        {
          "output_type": "stream",
          "name": "stdout",
          "text": [
            "You entered the following list of numbers:  [1, 4, 5, 7, 6, 8, 9]\n",
            "You entered the following number to search:  6\n",
            "linearSearch Results = The number you searched for was found at index position: 4\n",
            "Execution Time: 0.006551504135131836 seconds\n"
          ]
        }
      ]
    },
    {
      "cell_type": "code",
      "source": [
        "# Time measurement - Linear Search (Recursive)\n",
        "\n",
        "start_time = time.time()\n",
        "indexPositionLinearRec = linearSearchRec(userList,userSearch)\n",
        "print(\"You entered the following list of numbers: \", userList)\n",
        "print(\"You entered the following number to search: \", userSearch)\n",
        "if indexPositionLinearRec == -1:\n",
        "        print(\"linearSearchRec Results = The number you searched for was not found in the list provided.\")\n",
        "else:\n",
        "    print(\"linearSearchRec Results = The number you searched for was found at index position:\",indexPositionLinearRec)\n",
        "end_time = time.time()\n",
        "execution_time = end_time - start_time\n",
        "print(\"Execution Time:\", execution_time, \"seconds\")"
      ],
      "metadata": {
        "colab": {
          "base_uri": "https://localhost:8080/",
          "height": 0
        },
        "id": "mAXsQAY1D5Mv",
        "outputId": "e9bb43f0-e0c3-44ff-d1d6-4392e155e49b"
      },
      "execution_count": 23,
      "outputs": [
        {
          "output_type": "stream",
          "name": "stdout",
          "text": [
            "You entered the following list of numbers:  [1, 4, 5, 7, 6, 8, 9]\n",
            "You entered the following number to search:  6\n",
            "linearSearchRec Results = The number you searched for was found at index position: 4\n",
            "Execution Time: 0.0005199909210205078 seconds\n"
          ]
        }
      ]
    },
    {
      "cell_type": "code",
      "source": [
        "# Time measurement - Binary Search (Regular)\n",
        "\n",
        "start_time = time.time()\n",
        "indexPositionBinaryReg = binarySearch(userList, userSearch)\n",
        "print(\"You entered the following list of numbers: \", userList)\n",
        "print(\"You entered the following number to search: \", userSearch)\n",
        "if indexPositionBinaryReg == -1:\n",
        "    print(\"binarySearchReg Results = The number you searched for was not found in the list.\")\n",
        "else:\n",
        "    print(\"binarySearchReg Results = The number you searched for was found at index position:\",indexPositionBinaryReg)\n",
        "end_time = time.time()\n",
        "execution_time = end_time - start_time\n",
        "print(\"Execution Time:\", execution_time, \"seconds\")"
      ],
      "metadata": {
        "colab": {
          "base_uri": "https://localhost:8080/",
          "height": 0
        },
        "id": "fMaeIFupEjey",
        "outputId": "2da79ec8-f6e6-4849-950c-c342ca48c477"
      },
      "execution_count": 24,
      "outputs": [
        {
          "output_type": "stream",
          "name": "stdout",
          "text": [
            "You entered the following list of numbers:  [1, 4, 5, 7, 6, 8, 9]\n",
            "You entered the following number to search:  6\n",
            "binarySearchReg Results = The number you searched for was not found in the list.\n",
            "Execution Time: 0.0034246444702148438 seconds\n"
          ]
        }
      ]
    },
    {
      "cell_type": "code",
      "source": [
        "# Time measurement - Binary Search (Recursive)\n",
        "\n",
        "start_time = time.time()\n",
        "indexPositionBinaryRec = binarySearchRec(userList, userSearch)\n",
        "print(\"You entered the following list of numbers: \", userList)\n",
        "print(\"You entered the following number to search: \", userSearch)\n",
        "if indexPositionBinaryRec == -1:\n",
        "    print(\"binarySearchReg Results = The number you searched for was not found in the list.\")\n",
        "else:\n",
        "    print(\"binarySearchReg Results = The number you searched for was found at index position:\",indexPositionBinaryRec)\n",
        "end_time = time.time()\n",
        "execution_time = end_time - start_time\n",
        "print(\"Execution Time:\", execution_time, \"seconds\")"
      ],
      "metadata": {
        "colab": {
          "base_uri": "https://localhost:8080/",
          "height": 0
        },
        "id": "eTh5-VOOE97z",
        "outputId": "e70007ad-55cb-4aec-a12c-4e240a12e1e0"
      },
      "execution_count": 25,
      "outputs": [
        {
          "output_type": "stream",
          "name": "stdout",
          "text": [
            "You entered the following list of numbers:  [1, 4, 5, 7, 6, 8, 9]\n",
            "You entered the following number to search:  6\n",
            "binarySearchReg Results = The number you searched for was not found in the list.\n",
            "Execution Time: 0.0010089874267578125 seconds\n"
          ]
        }
      ]
    },
    {
      "cell_type": "code",
      "source": [
        "import sys\n",
        "\n",
        "IN_COLAB = \"google.colab\" in sys.modules\n",
        "if IN_COLAB:\n",
        "    %pip install --quiet line_profiler snakeviz pyinstrument eliot eliot-tree"
      ],
      "metadata": {
        "colab": {
          "base_uri": "https://localhost:8080/",
          "height": 0
        },
        "id": "2_Kvuh_-1d4x",
        "outputId": "67f7f932-d052-4367-ad04-1fc604e23076"
      },
      "execution_count": 26,
      "outputs": [
        {
          "output_type": "stream",
          "name": "stdout",
          "text": [
            "\u001b[2K     \u001b[90m━━━━━━━━━━━━━━━━━━━━━━━━━━━━━━━━━━━━━━━━\u001b[0m \u001b[32m717.6/717.6 kB\u001b[0m \u001b[31m6.8 MB/s\u001b[0m eta \u001b[36m0:00:00\u001b[0m\n",
            "\u001b[2K     \u001b[90m━━━━━━━━━━━━━━━━━━━━━━━━━━━━━━━━━━━━━━━━\u001b[0m \u001b[32m283.7/283.7 kB\u001b[0m \u001b[31m9.8 MB/s\u001b[0m eta \u001b[36m0:00:00\u001b[0m\n",
            "\u001b[2K     \u001b[90m━━━━━━━━━━━━━━━━━━━━━━━━━━━━━━━━━━━━━━━━\u001b[0m \u001b[32m106.9/106.9 kB\u001b[0m \u001b[31m7.1 MB/s\u001b[0m eta \u001b[36m0:00:00\u001b[0m\n",
            "\u001b[2K     \u001b[90m━━━━━━━━━━━━━━━━━━━━━━━━━━━━━━━━━━━━━━━━\u001b[0m \u001b[32m113.1/113.1 kB\u001b[0m \u001b[31m6.0 MB/s\u001b[0m eta \u001b[36m0:00:00\u001b[0m\n",
            "\u001b[2K     \u001b[90m━━━━━━━━━━━━━━━━━━━━━━━━━━━━━━━━━━━━━━━━\u001b[0m \u001b[32m40.1/40.1 kB\u001b[0m \u001b[31m3.7 MB/s\u001b[0m eta \u001b[36m0:00:00\u001b[0m\n",
            "\u001b[2K     \u001b[90m━━━━━━━━━━━━━━━━━━━━━━━━━━━━━━━━━━━━━━━━\u001b[0m \u001b[32m247.5/247.5 kB\u001b[0m \u001b[31m11.7 MB/s\u001b[0m eta \u001b[36m0:00:00\u001b[0m\n",
            "\u001b[2K     \u001b[90m━━━━━━━━━━━━━━━━━━━━━━━━━━━━━━━━━━━━━━━━\u001b[0m \u001b[32m117.7/117.7 kB\u001b[0m \u001b[31m12.4 MB/s\u001b[0m eta \u001b[36m0:00:00\u001b[0m\n",
            "\u001b[2K     \u001b[90m━━━━━━━━━━━━━━━━━━━━━━━━━━━━━━━━━━━━━━━━\u001b[0m \u001b[32m191.7/191.7 kB\u001b[0m \u001b[31m12.5 MB/s\u001b[0m eta \u001b[36m0:00:00\u001b[0m\n",
            "\u001b[2K     \u001b[90m━━━━━━━━━━━━━━━━━━━━━━━━━━━━━━━━━━━━━━━━\u001b[0m \u001b[32m142.5/142.5 kB\u001b[0m \u001b[31m10.9 MB/s\u001b[0m eta \u001b[36m0:00:00\u001b[0m\n",
            "\u001b[?25h"
          ]
        }
      ]
    },
    {
      "cell_type": "code",
      "source": [
        "%timeit linearSearch(userList,userSearch)"
      ],
      "metadata": {
        "colab": {
          "base_uri": "https://localhost:8080/",
          "height": 0
        },
        "id": "uTIYn9nx17jX",
        "outputId": "a589f985-05a9-4aa3-ea4c-11c380a9de13"
      },
      "execution_count": 28,
      "outputs": [
        {
          "output_type": "stream",
          "name": "stdout",
          "text": [
            "764 ns ± 223 ns per loop (mean ± std. dev. of 7 runs, 1000000 loops each)\n"
          ]
        }
      ]
    },
    {
      "cell_type": "code",
      "source": [
        "pip install memory-profiler"
      ],
      "metadata": {
        "colab": {
          "base_uri": "https://localhost:8080/",
          "height": 0
        },
        "id": "gaGmrK_N3iy9",
        "outputId": "0c64a539-c383-4ebb-b438-26c263ad92ea"
      },
      "execution_count": 31,
      "outputs": [
        {
          "output_type": "stream",
          "name": "stdout",
          "text": [
            "Collecting memory-profiler\n",
            "  Downloading memory_profiler-0.61.0-py3-none-any.whl (31 kB)\n",
            "Requirement already satisfied: psutil in /usr/local/lib/python3.10/dist-packages (from memory-profiler) (5.9.5)\n",
            "Installing collected packages: memory-profiler\n",
            "Successfully installed memory-profiler-0.61.0\n"
          ]
        }
      ]
    },
    {
      "cell_type": "code",
      "source": [
        "pip install guppy3"
      ],
      "metadata": {
        "colab": {
          "base_uri": "https://localhost:8080/",
          "height": 0
        },
        "id": "JM7-I5KP3ln3",
        "outputId": "efa49da7-d522-4ea1-b5bc-e31fb7b0a19d"
      },
      "execution_count": 32,
      "outputs": [
        {
          "output_type": "stream",
          "name": "stdout",
          "text": [
            "Collecting guppy3\n",
            "  Downloading guppy3-3.1.4.post1-cp310-cp310-manylinux_2_17_x86_64.manylinux2014_x86_64.whl (645 kB)\n",
            "\u001b[?25l     \u001b[90m━━━━━━━━━━━━━━━━━━━━━━━━━━━━━━━━━━━━━━━━\u001b[0m \u001b[32m0.0/645.4 kB\u001b[0m \u001b[31m?\u001b[0m eta \u001b[36m-:--:--\u001b[0m\r\u001b[2K     \u001b[91m━━━━━━━━━━━━━━\u001b[0m\u001b[91m╸\u001b[0m\u001b[90m━━━━━━━━━━━━━━━━━━━━━━━━━\u001b[0m \u001b[32m235.5/645.4 kB\u001b[0m \u001b[31m7.2 MB/s\u001b[0m eta \u001b[36m0:00:01\u001b[0m\r\u001b[2K     \u001b[91m━━━━━━━━━━━━━━━━━━━━━━━━━━━━━━━━━━━━━━━\u001b[0m\u001b[91m╸\u001b[0m \u001b[32m645.1/645.4 kB\u001b[0m \u001b[31m10.5 MB/s\u001b[0m eta \u001b[36m0:00:01\u001b[0m\r\u001b[2K     \u001b[90m━━━━━━━━━━━━━━━━━━━━━━━━━━━━━━━━━━━━━━━━\u001b[0m \u001b[32m645.4/645.4 kB\u001b[0m \u001b[31m8.8 MB/s\u001b[0m eta \u001b[36m0:00:00\u001b[0m\n",
            "\u001b[?25hInstalling collected packages: guppy3\n",
            "Successfully installed guppy3-3.1.4.post1\n"
          ]
        }
      ]
    },
    {
      "cell_type": "code",
      "source": [
        "from guppy import hpy\n",
        "from memory_profiler import profile\n",
        "\n",
        "#ITERATIONS AND MEMORY PROFILER - LINEARSEARCH\n",
        "def linearSearch(numList, userSearch):\n",
        "    iteration_count = 0  # Initialize the iteration counter\n",
        "    for indexPosition1, num in enumerate(numList):\n",
        "        iteration_count += 1\n",
        "        if num == userSearch:\n",
        "            print(f\"Number of iterations: {iteration_count}\")\n",
        "            return indexPosition1\n",
        "    print(f\"Number of iterations: {iteration_count}\")\n",
        "    return -1\n",
        "\n",
        "@profile\n",
        "def main():\n",
        "    h = hpy()\n",
        "    userList = [1, 2, 6, 5, 3, 7, 9, 8, 4]\n",
        "    userSearch = 7\n",
        "\n",
        "    print(\"Initial memory usage:\", h.heap())\n",
        "\n",
        "    indexPositionLinearReg = linearSearch(userList, userSearch)\n",
        "    print(\"You entered the following list of numbers: \", userList)\n",
        "    print(\"You entered the following number to search: \", userSearch)\n",
        "    if indexPositionLinearReg == -1:\n",
        "        print(\"linearSearch Results = The number you searched for was not found in the list provided.\")\n",
        "    else:\n",
        "        print(\"linearSearch Results = The number you searched for was found at index position:\", indexPositionLinearReg)\n",
        "\n",
        "    print(\"Final memory usage:\", h.heap())\n",
        "\n",
        "if __name__ == \"__main__\":\n",
        "    main()\n"
      ],
      "metadata": {
        "colab": {
          "base_uri": "https://localhost:8080/",
          "height": 0
        },
        "id": "lPD_l4mW3Wcf",
        "outputId": "2e88cd7e-a640-451d-cc62-1dec3a42b6b3"
      },
      "execution_count": 35,
      "outputs": [
        {
          "output_type": "stream",
          "name": "stderr",
          "text": [
            "\n",
            "PYDEV DEBUGGER WARNING:\n",
            "sys.settrace() should not be used when the debugger is being used.\n",
            "This may cause the debugger to stop working correctly.\n",
            "If this is needed, please check: \n",
            "http://pydev.blogspot.com/2007/06/why-cant-pydev-debugger-work-with.html\n",
            "to see how to restore the debug tracing back correctly.\n",
            "Call Location:\n",
            "  File \"/usr/local/lib/python3.10/dist-packages/memory_profiler.py\", line 847, in enable\n",
            "    sys.settrace(self.trace_memory_usage)\n",
            "\n"
          ]
        },
        {
          "output_type": "stream",
          "name": "stdout",
          "text": [
            "ERROR: Could not find file <ipython-input-35-bba7710669df>\n",
            "NOTE: %mprun can only be used on functions defined in physical files, and not in the IPython environment.\n",
            "Initial memory usage: Partition of a set of 892301 objects. Total size = 107277378 bytes.\n",
            " Index  Count   %     Size   % Cumulative  % Kind (class / dict of class)\n",
            "     0 359276  40 38946991  36  38946991  36 str\n",
            "     1 166607  19 12540424  12  51487415  48 tuple\n",
            "     2  46658   5  8355813   8  59843228  56 types.CodeType\n",
            "     3  74366   8  6255679   6  66098907  62 bytes\n",
            "     4  15309   2  6202064   6  72300971  67 dict (no owner)\n",
            "     5  42777   5  6159888   6  78460859  73 function\n",
            "     6   5490   1  5318200   5  83779059  78 type\n",
            "     7   2150   0  3140976   3  86920035  81 dict of module\n",
            "     8   5490   1  2850312   3  89770347  84 dict of type\n",
            "     9   9775   1  2422000   2  92192347  86 list\n",
            "<1882 more rows. Type e.g. '_.more' to view.>\n",
            "Number of iterations: 6\n",
            "You entered the following list of numbers:  [1, 2, 6, 5, 3, 7, 9, 8, 4]\n",
            "You entered the following number to search:  7\n",
            "linearSearch Results = The number you searched for was found at index position: 5\n",
            "Final memory usage: "
          ]
        },
        {
          "output_type": "stream",
          "name": "stderr",
          "text": [
            "\n",
            "PYDEV DEBUGGER WARNING:\n",
            "sys.settrace() should not be used when the debugger is being used.\n",
            "This may cause the debugger to stop working correctly.\n",
            "If this is needed, please check: \n",
            "http://pydev.blogspot.com/2007/06/why-cant-pydev-debugger-work-with.html\n",
            "to see how to restore the debug tracing back correctly.\n",
            "Call Location:\n",
            "  File \"/usr/local/lib/python3.10/dist-packages/memory_profiler.py\", line 850, in disable\n",
            "    sys.settrace(self._original_trace_function)\n",
            "\n"
          ]
        },
        {
          "output_type": "stream",
          "name": "stdout",
          "text": [
            "Partition of a set of 892360 objects. Total size = 107281020 bytes.\n",
            " Index  Count   %     Size   % Cumulative  % Kind (class / dict of class)\n",
            "     0 359276  40 38946991  36  38946991  36 str\n",
            "     1 166628  19 12541752  12  51488743  48 tuple\n",
            "     2  46658   5  8356251   8  59844994  56 types.CodeType\n",
            "     3  74366   8  6255679   6  66100673  62 bytes\n",
            "     4  15312   2  6202256   6  72302929  67 dict (no owner)\n",
            "     5  42777   5  6159888   6  78462817  73 function\n",
            "     6   5490   1  5318200   5  83781017  78 type\n",
            "     7   2150   0  3140976   3  86921993  81 dict of module\n",
            "     8   5490   1  2850312   3  89772305  84 dict of type\n",
            "     9   9775   1  2422000   2  92194305  86 list\n",
            "<1885 more rows. Type e.g. '_.more' to view.>\n"
          ]
        }
      ]
    },
    {
      "cell_type": "code",
      "source": [
        "#ITERATIONS AND MEMORY PROFILER - LINEARSEARCH - RECURSIVE\n",
        "def linearSearchRec(numList, userSearch, indexPosition2=0, call_count=0):\n",
        "    call_count += 1  # Increment the recursive call counter\n",
        "    if indexPosition2 >= len(numList):\n",
        "        print(f\"Total recursive calls: {call_count}\")\n",
        "        return -1\n",
        "    if numList[indexPosition2] == userSearch:\n",
        "        print(f\"Total recursive calls: {call_count}\")\n",
        "        return indexPosition2\n",
        "    return linearSearchRec(numList, userSearch, indexPosition2 + 1, call_count)\n",
        "\n",
        "@profile\n",
        "def main():\n",
        "    h = hpy()\n",
        "    userList = [1, 2, 6, 5, 3, 7, 9, 8, 4]\n",
        "    userSearch = 7\n",
        "\n",
        "    print(\"Initial memory usage:\", h.heap())\n",
        "\n",
        "    indexPositionLinearRec = linearSearchRec(userList, userSearch)\n",
        "    print(\"You entered the following list of numbers: \", userList)\n",
        "    print(\"You entered the following number to search: \", userSearch)\n",
        "    if indexPositionLinearRec == -1:\n",
        "        print(\"linearSearchRec Results = The number you searched for was not found in the list provided.\")\n",
        "    else:\n",
        "        print(\"linearSearchRec Results = The number you searched for was found at index position:\", indexPositionLinearRec)\n",
        "\n",
        "    print(\"Final memory usage:\", h.heap())\n",
        "\n",
        "if __name__ == \"__main__\":\n",
        "    main()"
      ],
      "metadata": {
        "colab": {
          "base_uri": "https://localhost:8080/",
          "height": 0
        },
        "id": "SODUYcz84uAn",
        "outputId": "0d22e395-f6f9-4a03-a3e4-59f567770b2f"
      },
      "execution_count": 36,
      "outputs": [
        {
          "output_type": "stream",
          "name": "stdout",
          "text": [
            "ERROR: Could not find file <ipython-input-36-c08ba4b68d59>\n",
            "NOTE: %mprun can only be used on functions defined in physical files, and not in the IPython environment.\n",
            "Initial memory usage: Partition of a set of 892515 objects. Total size = 107300410 bytes.\n",
            " Index  Count   %     Size   % Cumulative  % Kind (class / dict of class)\n",
            "     0 359321  40 38954380  36  38954380  36 str\n",
            "     1 166685  19 12545528  12  51499908  48 tuple\n",
            "     2  46660   5  8361366   8  59861274  56 types.CodeType\n",
            "     3  74370   8  6256253   6  66117527  62 bytes\n",
            "     4  15311   2  6202824   6  72320351  67 dict (no owner)\n",
            "     5  42777   5  6159888   6  78480239  73 function\n",
            "     6   5490   1  5318200   5  83798439  78 type\n",
            "     7   2150   0  3140976   3  86939415  81 dict of module\n",
            "     8   5490   1  2850312   3  89789727  84 dict of type\n",
            "     9   9776   1  2422304   2  92212031  86 list\n",
            "<1879 more rows. Type e.g. '_.more' to view.>\n",
            "Total recursive calls: 6\n",
            "You entered the following list of numbers:  [1, 2, 6, 5, 3, 7, 9, 8, 4]\n",
            "You entered the following number to search:  7\n",
            "linearSearchRec Results = The number you searched for was found at index position: 5\n",
            "Final memory usage: Partition of a set of 892568 objects. Total size = 107308095 bytes.\n",
            " Index  Count   %     Size   % Cumulative  % Kind (class / dict of class)\n",
            "     0 359322  40 38954433  36  38954433  36 str\n",
            "     1 166701  19 12546520  12  51500953  48 tuple\n",
            "     2  46660   5  8361366   8  59862319  56 types.CodeType\n",
            "     3  74370   8  6256253   6  66118572  62 bytes\n",
            "     4  15315   2  6207864   6  72326436  67 dict (no owner)\n",
            "     5  42777   5  6159888   6  78486324  73 function\n",
            "     6   5490   1  5318200   5  83804524  78 type\n",
            "     7   2150   0  3140976   3  86945500  81 dict of module\n",
            "     8   5490   1  2850312   3  89795812  84 dict of type\n",
            "     9   9776   1  2422304   2  92218116  86 list\n",
            "<1882 more rows. Type e.g. '_.more' to view.>\n"
          ]
        }
      ]
    },
    {
      "cell_type": "code",
      "source": [
        "#ITERATIONS AND MEMORY PROFILER - BINARY SEARCH\n",
        "def binarySearch(numList, userSearch):\n",
        "    left = 0\n",
        "    right = len(numList) - 1\n",
        "    iteration_count = 0\n",
        "    while left <= right:\n",
        "        iteration_count += 1\n",
        "        midpoint = (left + right) // 2\n",
        "        if userSearch == numList[midpoint]:\n",
        "            print(f\"Total iterations: {iteration_count}\")\n",
        "            return midpoint\n",
        "        elif userSearch < numList[midpoint]:\n",
        "            right = midpoint - 1\n",
        "        else:\n",
        "            left = midpoint + 1\n",
        "    print(f\"Total iterations: {iteration_count}\")\n",
        "    return -1\n",
        "\n",
        "@profile\n",
        "def main():\n",
        "    h = hpy()\n",
        "    userList = [1, 2, 6, 5, 3, 7, 9, 8, 4]\n",
        "    userList.sort()\n",
        "    userSearch = 7\n",
        "\n",
        "    print(\"Initial memory usage:\", h.heap())\n",
        "\n",
        "    indexPositionBinaryReg = binarySearch(userList, userSearch)\n",
        "    print(\"You entered the following list of numbers: \", userList)\n",
        "    print(\"You entered the following number to search: \", userSearch)\n",
        "    if indexPositionBinaryReg == -1:\n",
        "      print(\"binarySearch Results = The number you searched for was not found in the list.\")\n",
        "    else:\n",
        "      print(\"binarySearch Results = The number you searched for was found at index position:\",indexPositionBinaryReg)\n",
        "\n",
        "    print(\"Final memory usage:\", h.heap())\n",
        "\n",
        "if __name__ == \"__main__\":\n",
        "    main()"
      ],
      "metadata": {
        "colab": {
          "base_uri": "https://localhost:8080/",
          "height": 0
        },
        "id": "ho5JPWQ95Ca8",
        "outputId": "b0b65463-cfc0-401b-859b-06980a0663a7"
      },
      "execution_count": 37,
      "outputs": [
        {
          "output_type": "stream",
          "name": "stdout",
          "text": [
            "ERROR: Could not find file <ipython-input-37-dc4ce7aa3a65>\n",
            "NOTE: %mprun can only be used on functions defined in physical files, and not in the IPython environment.\n",
            "Initial memory usage: Partition of a set of 892915 objects. Total size = 107336784 bytes.\n",
            " Index  Count   %     Size   % Cumulative  % Kind (class / dict of class)\n",
            "     0 359369  40 38960804  36  38960804  36 str\n",
            "     1 166737  19 12548968  12  51509772  48 tuple\n",
            "     2  46662   5  8361846   8  59871618  56 types.CodeType\n",
            "     3  74374   8  6256459   6  66128077  62 bytes\n",
            "     4  15314   2  6208136   6  72336213  67 dict (no owner)\n",
            "     5  42777   5  6159888   6  78496101  73 function\n",
            "     6   5490   1  5318200   5  83814301  78 type\n",
            "     7   2150   0  3140976   3  86955277  81 dict of module\n",
            "     8   5490   1  2850312   3  89805589  84 dict of type\n",
            "     9   9787   1  2423296   2  92228885  86 list\n",
            "<1884 more rows. Type e.g. '_.more' to view.>\n",
            "Total iterations: 2\n",
            "You entered the following list of numbers:  [1, 2, 3, 4, 5, 6, 7, 8, 9]\n",
            "You entered the following number to search:  7\n",
            "binarySearch Results = The number you searched for was found at index position: 6\n",
            "Final memory usage: Partition of a set of 892955 objects. Total size = 107338644 bytes.\n",
            " Index  Count   %     Size   % Cumulative  % Kind (class / dict of class)\n",
            "     0 359369  40 38960804  36  38960804  36 str\n",
            "     1 166747  19 12549608  12  51510412  48 tuple\n",
            "     2  46662   5  8361846   8  59872258  56 types.CodeType\n",
            "     3  74374   8  6256459   6  66128717  62 bytes\n",
            "     4  15316   2  6208264   6  72336981  67 dict (no owner)\n",
            "     5  42777   5  6159888   6  78496869  73 function\n",
            "     6   5490   1  5318200   5  83815069  78 type\n",
            "     7   2150   0  3140976   3  86956045  81 dict of module\n",
            "     8   5490   1  2850312   3  89806357  84 dict of type\n",
            "     9   9787   1  2423296   2  92229653  86 list\n",
            "<1886 more rows. Type e.g. '_.more' to view.>\n"
          ]
        }
      ]
    },
    {
      "cell_type": "code",
      "source": [
        "#ITERATIONS AND MEMORY PROFILER - BINARY SEARCH - RECURSIVE\n",
        "def binarySearchRec(numList, userSearch, left=0, right=None, call_count=0):\n",
        "    if right is None:\n",
        "        right = len(numList) - 1\n",
        "    call_count += 1\n",
        "    if left <= right:\n",
        "        midpoint = (left + right) // 2\n",
        "        if userSearch == numList[midpoint]:\n",
        "            print(f\"Total recursive calls: {call_count}\")\n",
        "            return midpoint\n",
        "        elif userSearch < numList[midpoint]:\n",
        "            return binarySearchRec(numList, userSearch, left, midpoint - 1, call_count)\n",
        "        else:\n",
        "            return binarySearchRec(numList, userSearch, midpoint + 1, right, call_count)\n",
        "    else:\n",
        "        print(f\"Total recursive calls: {call_count}\")\n",
        "        return -1\n",
        "\n",
        "@profile\n",
        "def main():\n",
        "    h = hpy()\n",
        "    userList = [1, 2, 6, 5, 3, 7, 9, 8, 4]\n",
        "    userList.sort()\n",
        "    userSearch = 7\n",
        "\n",
        "    print(\"Initial memory usage:\", h.heap())\n",
        "\n",
        "    indexPositionBinaryRec = binarySearchRec(userList, userSearch)\n",
        "    print(\"You entered the following list of numbers: \", userList)\n",
        "    print(\"You entered the following number to search: \", userSearch)\n",
        "    if indexPositionBinaryRec == -1:\n",
        "      print(\"binarySearch Results = The number you searched for was not found in the list.\")\n",
        "    else:\n",
        "      print(\"binarySearch Results = The number you searched for was found at index position:\",indexPositionBinaryRec)\n",
        "\n",
        "    print(\"Final memory usage:\", h.heap())\n",
        "\n",
        "if __name__ == \"__main__\":\n",
        "    main()"
      ],
      "metadata": {
        "colab": {
          "base_uri": "https://localhost:8080/",
          "height": 0
        },
        "id": "pOJszek85KxR",
        "outputId": "87d3379a-c427-4925-c62d-89daa67807b6"
      },
      "execution_count": 38,
      "outputs": [
        {
          "output_type": "stream",
          "name": "stdout",
          "text": [
            "ERROR: Could not find file <ipython-input-38-62ad0b523b25>\n",
            "NOTE: %mprun can only be used on functions defined in physical files, and not in the IPython environment.\n",
            "Initial memory usage: Partition of a set of 893051 objects. Total size = 107353615 bytes.\n",
            " Index  Count   %     Size   % Cumulative  % Kind (class / dict of class)\n",
            "     0 359415  40 38967907  36  38967907  36 str\n",
            "     1 166755  19 12550272  12  51518179  48 tuple\n",
            "     2  46664   5  8365117   8  59883296  56 types.CodeType\n",
            "     3  74378   8  6256960   6  66140256  62 bytes\n",
            "     4  15317   2  6208496   6  72348752  67 dict (no owner)\n",
            "     5  42777   5  6159888   6  78508640  73 function\n",
            "     6   5490   1  5318200   5  83826840  78 type\n",
            "     7   2150   0  3140976   3  86967816  81 dict of module\n",
            "     8   5490   1  2850312   3  89818128  84 dict of type\n",
            "     9   9792   1  2424000   2  92242128  86 list\n",
            "<1885 more rows. Type e.g. '_.more' to view.>\n",
            "Total recursive calls: 2\n",
            "You entered the following list of numbers:  [1, 2, 3, 4, 5, 6, 7, 8, 9]\n",
            "You entered the following number to search:  7\n",
            "binarySearch Results = The number you searched for was found at index position: 6\n",
            "Final memory usage: Partition of a set of 893096 objects. Total size = 107355532 bytes.\n",
            " Index  Count   %     Size   % Cumulative  % Kind (class / dict of class)\n",
            "     0 359416  40 38967960  36  38967960  36 str\n",
            "     1 166768  19 12551088  12  51519048  48 tuple\n",
            "     2  46664   5  8365117   8  59884165  56 types.CodeType\n",
            "     3  74378   8  6256960   6  66141125  62 bytes\n",
            "     4  15316   2  6208600   6  72349725  67 dict (no owner)\n",
            "     5  42777   5  6159888   6  78509613  73 function\n",
            "     6   5490   1  5318200   5  83827813  78 type\n",
            "     7   2150   0  3140976   3  86968789  81 dict of module\n",
            "     8   5490   1  2850312   3  89819101  84 dict of type\n",
            "     9   9792   1  2424000   2  92243101  86 list\n",
            "<1883 more rows. Type e.g. '_.more' to view.>\n"
          ]
        }
      ]
    }
  ]
}