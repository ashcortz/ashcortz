{
  "nbformat": 4,
  "nbformat_minor": 0,
  "metadata": {
    "colab": {
      "provenance": []
    },
    "kernelspec": {
      "name": "python3",
      "display_name": "Python 3"
    },
    "language_info": {
      "name": "python"
    }
  },
  "cells": [
    {
      "cell_type": "code",
      "execution_count": null,
      "metadata": {
        "id": "lTl1bTvL4S6H"
      },
      "outputs": [],
      "source": [
        "import pandas as pd\n",
        "import numpy as np\n",
        "import difflib\n",
        "import matplotlib.pyplot as plt\n",
        "import seaborn as sns\n",
        "import matplotlib.ticker as ticker\n",
        "import statsmodels.api as sm"
      ]
    },
    {
      "cell_type": "markdown",
      "source": [
        "# **Merge each yearly report for each dataset**"
      ],
      "metadata": {
        "id": "TDT4IXsZV2A4"
      }
    },
    {
      "cell_type": "markdown",
      "source": [
        "## **Load in Cost Report Data:**"
      ],
      "metadata": {
        "id": "LzwaRO8xGOJX"
      }
    },
    {
      "cell_type": "code",
      "source": [
        "df_COST2015 = pd.read_csv('2015_CostReport.csv')\n",
        "df_COST2016 = pd.read_csv('2016_CostReport.csv')\n",
        "df_COST2017 = pd.read_csv('2017_CostReport.csv')\n",
        "df_COST2018 = pd.read_csv('2018_CostReport.csv')\n",
        "df_COST2019 = pd.read_csv('2019_CostReport.csv')\n",
        "df_COST2020 = pd.read_csv('2020_CostReport.csv')\n",
        "df_COST2021 = pd.read_csv('2021_CostReport.csv')"
      ],
      "metadata": {
        "colab": {
          "base_uri": "https://localhost:8080/"
        },
        "id": "HrKRQihg_nMD",
        "outputId": "60c846b2-daa9-4020-9ff1-fe3719fa6bcb"
      },
      "execution_count": null,
      "outputs": [
        {
          "output_type": "stream",
          "name": "stderr",
          "text": [
            "<ipython-input-2-e5e303043d6d>:1: DtypeWarning: Columns (8) have mixed types. Specify dtype option on import or set low_memory=False.\n",
            "  df_COST2015 = pd.read_csv('2015_CostReport.csv')\n"
          ]
        }
      ]
    },
    {
      "cell_type": "markdown",
      "source": [
        "### **Check for common/consistent attributes across each year's cost report**"
      ],
      "metadata": {
        "id": "067h4xi1GuLa"
      }
    },
    {
      "cell_type": "markdown",
      "source": [
        "From the cell below, we can see that there are only 4 matching column names across the Cost Reports."
      ],
      "metadata": {
        "id": "6ef3WfYnHI8H"
      }
    },
    {
      "cell_type": "code",
      "source": [
        "# Getting column names of each DataFrame\n",
        "columns_COST2015 = df_COST2015.columns\n",
        "columns_COST2016 = df_COST2016.columns\n",
        "columns_COST2017 = df_COST2017.columns\n",
        "columns_COST2018 = df_COST2018.columns\n",
        "columns_COST2019 = df_COST2019.columns\n",
        "columns_COST2020 = df_COST2020.columns\n",
        "columns_COST2021 = df_COST2021.columns\n",
        "\n",
        "# Finding common attributes\n",
        "common_COSTattributes = set(columns_COST2015) & set(columns_COST2016) & set(columns_COST2017) & set(columns_COST2018) & set(columns_COST2019) & set(columns_COST2020) & set(columns_COST2021)\n",
        "\n",
        "# Print common attributes\n",
        "print(\"Common attributes among all datasets:\")\n",
        "print(common_COSTattributes)"
      ],
      "metadata": {
        "colab": {
          "base_uri": "https://localhost:8080/"
        },
        "id": "yov4dYEKGjWy",
        "outputId": "5c1994f3-b177-485a-def6-47b5da2a0832"
      },
      "execution_count": null,
      "outputs": [
        {
          "output_type": "stream",
          "name": "stdout",
          "text": [
            "Common attributes among all datasets:\n",
            "{'Buildings', 'rpt_rec_num', 'City', 'County'}\n"
          ]
        }
      ]
    },
    {
      "cell_type": "markdown",
      "source": [
        "Below, we provided an example that shows there are inconsistencies in the column names for 2020 and 2021. For the cost reports in these years, the column names do not have underscores between the words"
      ],
      "metadata": {
        "id": "b9_uVys6HdeN"
      }
    },
    {
      "cell_type": "code",
      "source": [
        "# List of file names\n",
        "file_names = ['2015_CostReport.csv', '2016_CostReport.csv', '2017_CostReport.csv',\n",
        "              '2018_CostReport.csv', '2019_CostReport.csv', '2020_CostReport.csv',\n",
        "              '2021_CostReport.csv']\n",
        "\n",
        "# Loop through each file and check the data type of the 'Rural_versus_Urban' attribute\n",
        "for file_name in file_names:\n",
        "    try:\n",
        "        df = pd.read_csv(file_name, low_memory=False)\n",
        "        if 'Rural_versus_Urban' in df.columns:\n",
        "            data_type = df['Rural_versus_Urban'].dtype\n",
        "            print(f\"Data type of 'Rural_versus_Urban' attribute in {file_name}: {data_type}\")     #2020 and 2021 data set named without _\n",
        "        elif 'Rural versus Urban' in df.columns:\n",
        "            data_type = df['Rural versus Urban'].dtype\n",
        "            print(f\"Data type of 'Rural versus Urban' attribute in {file_name}: {data_type}\")\n",
        "        else:\n",
        "            print(f\"'Rural_versus_Urban' or 'Rural versus Urban' attribute does not exist in {file_name}\")\n",
        "    except KeyError:\n",
        "        print(f\"'Rural_versus_Urban' or 'Rural versus Urban' attribute does not exist in {file_name}\")"
      ],
      "metadata": {
        "colab": {
          "base_uri": "https://localhost:8080/"
        },
        "id": "DDUuJ9XpGeqR",
        "outputId": "b29e09e7-b5e2-463e-d854-cc3d3b429b34"
      },
      "execution_count": null,
      "outputs": [
        {
          "output_type": "stream",
          "name": "stdout",
          "text": [
            "Data type of 'Rural_versus_Urban' attribute in 2015_CostReport.csv: object\n",
            "Data type of 'Rural_versus_Urban' attribute in 2016_CostReport.csv: object\n",
            "Data type of 'Rural_versus_Urban' attribute in 2017_CostReport.csv: object\n",
            "Data type of 'Rural_versus_Urban' attribute in 2018_CostReport.csv: object\n",
            "Data type of 'Rural_versus_Urban' attribute in 2019_CostReport.csv: object\n",
            "Data type of 'Rural versus Urban' attribute in 2020_CostReport.csv: object\n",
            "Data type of 'Rural versus Urban' attribute in 2021_CostReport.csv: object\n"
          ]
        }
      ]
    },
    {
      "cell_type": "markdown",
      "source": [
        "Our next step below is to add an underscore to the 2020 and 2021 attribute names. We also added a column for year that we will later use to join datasets."
      ],
      "metadata": {
        "id": "C8lZo45MHwOS"
      }
    },
    {
      "cell_type": "code",
      "source": [
        "# COST REPORT DATASET\n",
        "# Define a function to rename columns with spaces to underscores\n",
        "def rename_columns(df):\n",
        "    # Replace spaces with underscores in column names, fixes issues found in code above\n",
        "    df.columns = df.columns.str.replace(' ', '_')\n",
        "    return df\n",
        "\n",
        "# Read and rename columns for each dataset\n",
        "df_COST2020 = rename_columns(pd.read_csv('2020_CostReport.csv'))\n",
        "df_COST2021 = rename_columns(pd.read_csv('2021_CostReport.csv'))\n",
        "\n",
        "#Add a column to each year's dataset that lists the year\n",
        "df_COST2015['Year'] = 2015\n",
        "df_COST2016['Year'] = 2016\n",
        "df_COST2017['Year'] = 2017\n",
        "df_COST2018['Year'] = 2018\n",
        "df_COST2019['Year'] = 2019\n",
        "df_COST2020['Year'] = 2020\n",
        "df_COST2021['Year'] = 2021\n",
        "\n",
        "# Concatenate the DataFrames\n",
        "concatCOST_df = pd.concat([df_COST2015, df_COST2016, df_COST2017, df_COST2018, df_COST2019, df_COST2020, df_COST2021], ignore_index=True)"
      ],
      "metadata": {
        "id": "dVG-ZKAj_te-"
      },
      "execution_count": null,
      "outputs": []
    },
    {
      "cell_type": "code",
      "source": [
        "# Getting column names of each DataFrame\n",
        "columns_COST2015 = df_COST2015.columns\n",
        "columns_COST2016 = df_COST2016.columns\n",
        "columns_COST2017 = df_COST2017.columns\n",
        "columns_COST2018 = df_COST2018.columns\n",
        "columns_COST2019 = df_COST2019.columns\n",
        "columns_COST2020 = df_COST2020.columns\n",
        "columns_COST2021 = df_COST2021.columns\n",
        "\n",
        "# Finding common attributes\n",
        "common_COSTattributes = set(columns_COST2015) & set(columns_COST2016) & set(columns_COST2017) & set(columns_COST2018) & set(columns_COST2019) & set(columns_COST2020) & set(columns_COST2021)\n",
        "\n",
        "# Print common attributes\n",
        "print(\"Common attributes among all datasets:\")\n",
        "print(common_COSTattributes)"
      ],
      "metadata": {
        "colab": {
          "base_uri": "https://localhost:8080/"
        },
        "id": "2Eqx-eTWBhqp",
        "outputId": "3a0ef646-280c-49c2-bcc4-88208a0a16a1"
      },
      "execution_count": null,
      "outputs": [
        {
          "output_type": "stream",
          "name": "stdout",
          "text": [
            "Common attributes among all datasets:\n",
            "{'Total_current_liabilities', 'rpt_rec_num', 'Year', 'Less_Total_Operating_Expense', 'General_fund_balance', 'Total_Days_Total', 'County', 'Total_RUG_Days', 'Zip_Code', 'Rural_versus_Urban', 'SNF_Admissions_Title_XIX', 'Total_liabilities', 'State_Code', 'Provider_CCN', 'Total_Income', 'Total_Assets', 'Fixed_equipment', 'Buildings', 'SNF_Days_Other', 'Cash_on_hand_and_in_banks', 'Total_Days_Other', 'Accounts_payable', 'Net_Income', 'Medicare_CBSA_Number', 'Other_current_liabilities', 'Gross_Revenue', 'SNF_Discharges_Title_XVIII', 'SNF_Admissions_Other', 'SNF_Admissions_Total', 'Total_fixed_Assets', 'Number_of_Beds', 'Street_Address', 'SNF_Days_Title_XVIII', 'Total_Discharges_Total', 'Accounts_Receivable', 'SNF_Days_Title_XIX', 'Total_Days_Title_XIX', 'Total_fund_balances', 'Facility_Name', 'Inpatient_Revenue', 'Net_Patient_Revenue', 'SNF_Discharges_Total', 'Total_Days_Title_XVIII', 'Total_Discharges_Title_Other', 'Total_Discharges_Title_XVIII', 'Total_Salaries_From_Worksheet_A', 'Other_Assets', 'Total_other_Assets', 'Total_Discharges_Title_XIX', 'SNF_Discharges_Title_Other', 'SNF_Discharges_Title_XIX', 'Total_Bed_Days_Available', 'City', 'Fiscal_Year_End_Date', 'SNF_Admissions_Title_XVIII', 'Type_of_Control', 'Inpatient_PPS_Amount', 'Major_movable_equipment', 'Total_Costs', 'Fiscal_Year_Begin_Date', 'SNF_Days_Total'}\n"
          ]
        }
      ]
    },
    {
      "cell_type": "markdown",
      "source": [
        "## **Load in Penalties Data**"
      ],
      "metadata": {
        "id": "yAleRA2HNrYd"
      }
    },
    {
      "cell_type": "code",
      "source": [
        "# PENALTIES DATASET\n",
        "df_PENALTY2015 = pd.read_csv('Penalties_2015.csv')\n",
        "df_PENALTY2016 = pd.read_csv('Penalties_2016.csv')\n",
        "df_PENALTY2017 = pd.read_csv('Penalties_2017.csv')\n",
        "df_PENALTY2018 = pd.read_csv('Penalties_2018.csv')\n",
        "df_PENALTY2019 = pd.read_csv('Penalties_2019.csv')\n",
        "df_PENALTY2020 = pd.read_csv('Penalties_2020.csv')\n",
        "df_PENALTY2021 = pd.read_csv('Penalties_2021_v2.csv')"
      ],
      "metadata": {
        "id": "E-Pap11_C_-y"
      },
      "execution_count": null,
      "outputs": []
    },
    {
      "cell_type": "markdown",
      "source": [
        "In the cell below, we can see that there are no attributes that currently match across the years. After further investigation, we found that 2020 and 2021 files had the same data, but different column names. We will solve for this in the next chunk of code."
      ],
      "metadata": {
        "id": "KOI0jYszTZKM"
      }
    },
    {
      "cell_type": "markdown",
      "source": [
        "### **Check for consistent attributes in Penalties Reports**"
      ],
      "metadata": {
        "id": "f2G1xjLhVCqF"
      }
    },
    {
      "cell_type": "code",
      "source": [
        "# Getting column names of each DataFrame\n",
        "columns_PENALTY2015 = df_PENALTY2015.columns\n",
        "columns_PENALTY2016 = df_PENALTY2016.columns\n",
        "columns_PENALTY2017 = df_PENALTY2017.columns\n",
        "columns_PENALTY2018 = df_PENALTY2018.columns\n",
        "columns_PENALTY2019 = df_PENALTY2019.columns\n",
        "columns_PENALTY2020 = df_PENALTY2020.columns\n",
        "columns_PENALTY2021 = df_PENALTY2021.columns\n",
        "\n",
        "# Finding common attributes\n",
        "common_PENALTYattributes = set(columns_PENALTY2015) & set(columns_PENALTY2016) & set(columns_PENALTY2017) & set(columns_PENALTY2018) & set(columns_PENALTY2019) & set(columns_PENALTY2020) & set(columns_PENALTY2021)\n",
        "\n",
        "# Print common attributes\n",
        "print(\"Common attributes among all datasets:\")\n",
        "print(common_PENALTYattributes)"
      ],
      "metadata": {
        "colab": {
          "base_uri": "https://localhost:8080/"
        },
        "id": "DL63adBtPOqI",
        "outputId": "9323d3ff-be99-413e-8ff3-5d884b0b2bba"
      },
      "execution_count": null,
      "outputs": [
        {
          "output_type": "stream",
          "name": "stdout",
          "text": [
            "Common attributes among all datasets:\n",
            "set()\n"
          ]
        }
      ]
    },
    {
      "cell_type": "markdown",
      "source": [
        "### **Cleaning 2020 and 2021 attribute names to match 2015-2019**"
      ],
      "metadata": {
        "id": "9ktiz68cTxR-"
      }
    },
    {
      "cell_type": "code",
      "source": [
        "# Define the mapping of old column names to new column names\n",
        "column_mapping = {\n",
        "    'Federal Provider Number': 'provnum',\n",
        "    'Provider Name': 'provname',\n",
        "    'Provider Address': 'address',\n",
        "    'Provider City': 'city',\n",
        "    'Provider State': 'state',\n",
        "    'Provider Zip Code': 'zip',\n",
        "    'Penalty Date': 'pnlty_date',\n",
        "    'Penalty Type': 'pnlty_type',\n",
        "    'Fine Amount': 'fine_amt',\n",
        "    'Payment Denial Start Date': 'payden_strt_dt',\n",
        "    'Payment Denial Length in Days': 'payden_days',\n",
        "    'Processing Date': 'filedate'}\n",
        "\n",
        "df_PENALTY2020.rename(columns=column_mapping, inplace=True)\n",
        "df_PENALTY2021.rename(columns=column_mapping, inplace=True)\n"
      ],
      "metadata": {
        "id": "OkyPux6bTwcq"
      },
      "execution_count": null,
      "outputs": []
    },
    {
      "cell_type": "markdown",
      "source": [
        "### **Check that columns were renamed and match across years for Penalty dataset:**\n"
      ],
      "metadata": {
        "id": "8Th2hZ6tU7IX"
      }
    },
    {
      "cell_type": "code",
      "source": [
        "# Getting column names of each DataFrame\n",
        "columns_PENALTY2015 = df_PENALTY2015.columns\n",
        "columns_PENALTY2016 = df_PENALTY2016.columns\n",
        "columns_PENALTY2017 = df_PENALTY2017.columns\n",
        "columns_PENALTY2018 = df_PENALTY2018.columns\n",
        "columns_PENALTY2019 = df_PENALTY2019.columns\n",
        "columns_PENALTY2020 = df_PENALTY2020.columns\n",
        "columns_PENALTY2021 = df_PENALTY2021.columns\n",
        "\n",
        "# Finding common attributes\n",
        "common_PENALTYattributes = set(columns_PENALTY2015) & set(columns_PENALTY2016) & set(columns_PENALTY2017) & set(columns_PENALTY2018) & set(columns_PENALTY2019) & set(columns_PENALTY2020) & set(columns_PENALTY2021)\n",
        "\n",
        "# Print common attributes\n",
        "print(\"Common attributes among all datasets:\")\n",
        "print(common_PENALTYattributes)"
      ],
      "metadata": {
        "colab": {
          "base_uri": "https://localhost:8080/"
        },
        "id": "aOJY6UD1U4ki",
        "outputId": "4bb14b04-276e-4342-c6f1-74ad7318f599"
      },
      "execution_count": null,
      "outputs": [
        {
          "output_type": "stream",
          "name": "stdout",
          "text": [
            "Common attributes among all datasets:\n",
            "{'address', 'pnlty_type', 'filedate', 'city', 'payden_strt_dt', 'payden_days', 'state', 'fine_amt', 'pnlty_date', 'provnum', 'zip', 'provname'}\n"
          ]
        }
      ]
    },
    {
      "cell_type": "markdown",
      "source": [
        "**Add a column for Year to the Penalty datasets.\n",
        "Combine all the datasets into one**"
      ],
      "metadata": {
        "id": "8Jj8uUuqWB-L"
      }
    },
    {
      "cell_type": "code",
      "source": [
        "#Add a column to each year's dataset that lists the year\n",
        "df_PENALTY2015['Year'] = 2015\n",
        "df_PENALTY2016['Year'] = 2016\n",
        "df_PENALTY2017['Year'] = 2017\n",
        "df_PENALTY2018['Year'] = 2018\n",
        "df_PENALTY2019['Year'] = 2019\n",
        "df_PENALTY2020['Year'] = 2020\n",
        "df_PENALTY2021['Year'] = 2021\n",
        "\n",
        "# Concatenate the DataFrames\n",
        "concatPENALTY_df = pd.concat([df_PENALTY2015, df_PENALTY2016, df_PENALTY2017, df_PENALTY2018, df_PENALTY2019, df_PENALTY2020, df_PENALTY2021], ignore_index=True)"
      ],
      "metadata": {
        "id": "zogcJ2HYWBj9"
      },
      "execution_count": null,
      "outputs": []
    },
    {
      "cell_type": "markdown",
      "source": [
        "## **Load in Provider Info Dataset**"
      ],
      "metadata": {
        "id": "isjuusyWYYWG"
      }
    },
    {
      "cell_type": "code",
      "source": [
        "df_PROVIDER2015 = pd.read_csv('ProviderInfo_2015.csv')\n",
        "df_PROVIDER2016 = pd.read_csv('ProviderInfo_2016.csv')\n",
        "df_PROVIDER2017 = pd.read_csv('ProviderInfo_2017.csv')\n",
        "df_PROVIDER2018 = pd.read_csv('ProviderInfo_2018.csv')\n",
        "df_PROVIDER2019 = pd.read_csv('ProviderInfo_2019.csv')\n",
        "df_PROVIDER2020 = pd.read_csv('ProviderInfo_2020.csv')\n",
        "df_PROVIDER2021 = pd.read_csv('ProviderInfo_2021.csv')"
      ],
      "metadata": {
        "id": "oFijRZOxYVB0"
      },
      "execution_count": null,
      "outputs": []
    },
    {
      "cell_type": "markdown",
      "source": [
        "There are column names that are/are not in upper case across the dataset and there are some years that have differently formatted names.\n",
        "\n",
        "First let's deal with the names with different cases."
      ],
      "metadata": {
        "id": "9M3WewQFkOl5"
      }
    },
    {
      "cell_type": "code",
      "source": [
        "df_PROVIDER2015.columns = df_PROVIDER2015.columns.str.upper()\n",
        "df_PROVIDER2016.columns = df_PROVIDER2016.columns.str.upper()\n",
        "df_PROVIDER2017.columns = df_PROVIDER2017.columns.str.upper()\n",
        "df_PROVIDER2018.columns = df_PROVIDER2018.columns.str.upper()\n",
        "df_PROVIDER2019.columns = df_PROVIDER2019.columns.str.upper()"
      ],
      "metadata": {
        "id": "aJbbaVAvkj51"
      },
      "execution_count": null,
      "outputs": []
    },
    {
      "cell_type": "markdown",
      "source": [
        "Check that at least one of the datasets changed to have upper case column names:"
      ],
      "metadata": {
        "id": "6ZAOD24km8pB"
      }
    },
    {
      "cell_type": "code",
      "source": [
        "df_PROVIDER2019.head()"
      ],
      "metadata": {
        "colab": {
          "base_uri": "https://localhost:8080/",
          "height": 464
        },
        "id": "GeAhzDrcmSwQ",
        "outputId": "2895c4b4-e9d1-4e33-9830-d9940717a3c8"
      },
      "execution_count": null,
      "outputs": [
        {
          "output_type": "execute_result",
          "data": {
            "text/plain": [
              "  PROVNUM                                     PROVNAME  \\\n",
              "0   15009                     BURNS NURSING HOME, INC.   \n",
              "1   15010               COOSA VALLEY HEALTHCARE CENTER   \n",
              "2   15012                   HIGHLANDS HEALTH AND REHAB   \n",
              "3   15014  EASTVIEW REHABILITATION & HEALTHCARE CENTER   \n",
              "4   15015                PLANTATION MANOR NURSING HOME   \n",
              "\n",
              "                                    ADDRESS          CITY STATE    ZIP  \\\n",
              "0                      701 MONROE STREET NW  RUSSELLVILLE    AL  35653   \n",
              "1                    260 WEST WALNUT STREET     SYLACAUGA    AL  35150   \n",
              "2                       380 WOODS COVE ROAD    SCOTTSBORO    AL  35768   \n",
              "3                  7755 FOURTH AVENUE SOUTH    BIRMINGHAM    AL  35206   \n",
              "4  6450 OLD TUSCALOOSA HIGHWAY   P O BOX 97      MC CALLA    AL  35111   \n",
              "\n",
              "        PHONE  COUNTY_SSA COUNTY_NAME                 OWNERSHIP  ...  \\\n",
              "0  2563324110         290    Franklin  For profit - Corporation  ...   \n",
              "1  2562495604         600   Talladega  For profit - Corporation  ...   \n",
              "2  2562183708         350     Jackson       Government - County  ...   \n",
              "3  2058330146         360   Jefferson   For profit - Individual  ...   \n",
              "4  2054776161         360   Jefferson   For profit - Individual  ...   \n",
              "\n",
              "   CYCLE_3_REVISIT_SCORE  CYCLE_3_TOTAL_SCORE WEIGHTED_ALL_CYCLES_SCORE  \\\n",
              "0                      0                    0                     5.333   \n",
              "1                      0                   36                    18.667   \n",
              "2                      0                   44                    30.667   \n",
              "3                      0                   40                    24.667   \n",
              "4                      0                   16                        14   \n",
              "\n",
              "  INCIDENT_CNT CMPLNT_CNT FINE_CNT FINE_TOT PAYDEN_CNT TOT_PENLTY_CNT FILEDATE  \n",
              "0            0          0        0        0          0              0  11/1/19  \n",
              "1            0          0        0        0          0              0  11/1/19  \n",
              "2            0          0        0        0          0              0  11/1/19  \n",
              "3            0          0        0        0          0              0  11/1/19  \n",
              "4            0          0        2    29611          0              2  11/1/19  \n",
              "\n",
              "[5 rows x 85 columns]"
            ],
            "text/html": [
              "\n",
              "  <div id=\"df-23a158b7-7f71-405f-a766-571fc6670189\" class=\"colab-df-container\">\n",
              "    <div>\n",
              "<style scoped>\n",
              "    .dataframe tbody tr th:only-of-type {\n",
              "        vertical-align: middle;\n",
              "    }\n",
              "\n",
              "    .dataframe tbody tr th {\n",
              "        vertical-align: top;\n",
              "    }\n",
              "\n",
              "    .dataframe thead th {\n",
              "        text-align: right;\n",
              "    }\n",
              "</style>\n",
              "<table border=\"1\" class=\"dataframe\">\n",
              "  <thead>\n",
              "    <tr style=\"text-align: right;\">\n",
              "      <th></th>\n",
              "      <th>PROVNUM</th>\n",
              "      <th>PROVNAME</th>\n",
              "      <th>ADDRESS</th>\n",
              "      <th>CITY</th>\n",
              "      <th>STATE</th>\n",
              "      <th>ZIP</th>\n",
              "      <th>PHONE</th>\n",
              "      <th>COUNTY_SSA</th>\n",
              "      <th>COUNTY_NAME</th>\n",
              "      <th>OWNERSHIP</th>\n",
              "      <th>...</th>\n",
              "      <th>CYCLE_3_REVISIT_SCORE</th>\n",
              "      <th>CYCLE_3_TOTAL_SCORE</th>\n",
              "      <th>WEIGHTED_ALL_CYCLES_SCORE</th>\n",
              "      <th>INCIDENT_CNT</th>\n",
              "      <th>CMPLNT_CNT</th>\n",
              "      <th>FINE_CNT</th>\n",
              "      <th>FINE_TOT</th>\n",
              "      <th>PAYDEN_CNT</th>\n",
              "      <th>TOT_PENLTY_CNT</th>\n",
              "      <th>FILEDATE</th>\n",
              "    </tr>\n",
              "  </thead>\n",
              "  <tbody>\n",
              "    <tr>\n",
              "      <th>0</th>\n",
              "      <td>15009</td>\n",
              "      <td>BURNS NURSING HOME, INC.</td>\n",
              "      <td>701 MONROE STREET NW</td>\n",
              "      <td>RUSSELLVILLE</td>\n",
              "      <td>AL</td>\n",
              "      <td>35653</td>\n",
              "      <td>2563324110</td>\n",
              "      <td>290</td>\n",
              "      <td>Franklin</td>\n",
              "      <td>For profit - Corporation</td>\n",
              "      <td>...</td>\n",
              "      <td>0</td>\n",
              "      <td>0</td>\n",
              "      <td>5.333</td>\n",
              "      <td>0</td>\n",
              "      <td>0</td>\n",
              "      <td>0</td>\n",
              "      <td>0</td>\n",
              "      <td>0</td>\n",
              "      <td>0</td>\n",
              "      <td>11/1/19</td>\n",
              "    </tr>\n",
              "    <tr>\n",
              "      <th>1</th>\n",
              "      <td>15010</td>\n",
              "      <td>COOSA VALLEY HEALTHCARE CENTER</td>\n",
              "      <td>260 WEST WALNUT STREET</td>\n",
              "      <td>SYLACAUGA</td>\n",
              "      <td>AL</td>\n",
              "      <td>35150</td>\n",
              "      <td>2562495604</td>\n",
              "      <td>600</td>\n",
              "      <td>Talladega</td>\n",
              "      <td>For profit - Corporation</td>\n",
              "      <td>...</td>\n",
              "      <td>0</td>\n",
              "      <td>36</td>\n",
              "      <td>18.667</td>\n",
              "      <td>0</td>\n",
              "      <td>0</td>\n",
              "      <td>0</td>\n",
              "      <td>0</td>\n",
              "      <td>0</td>\n",
              "      <td>0</td>\n",
              "      <td>11/1/19</td>\n",
              "    </tr>\n",
              "    <tr>\n",
              "      <th>2</th>\n",
              "      <td>15012</td>\n",
              "      <td>HIGHLANDS HEALTH AND REHAB</td>\n",
              "      <td>380 WOODS COVE ROAD</td>\n",
              "      <td>SCOTTSBORO</td>\n",
              "      <td>AL</td>\n",
              "      <td>35768</td>\n",
              "      <td>2562183708</td>\n",
              "      <td>350</td>\n",
              "      <td>Jackson</td>\n",
              "      <td>Government - County</td>\n",
              "      <td>...</td>\n",
              "      <td>0</td>\n",
              "      <td>44</td>\n",
              "      <td>30.667</td>\n",
              "      <td>0</td>\n",
              "      <td>0</td>\n",
              "      <td>0</td>\n",
              "      <td>0</td>\n",
              "      <td>0</td>\n",
              "      <td>0</td>\n",
              "      <td>11/1/19</td>\n",
              "    </tr>\n",
              "    <tr>\n",
              "      <th>3</th>\n",
              "      <td>15014</td>\n",
              "      <td>EASTVIEW REHABILITATION &amp; HEALTHCARE CENTER</td>\n",
              "      <td>7755 FOURTH AVENUE SOUTH</td>\n",
              "      <td>BIRMINGHAM</td>\n",
              "      <td>AL</td>\n",
              "      <td>35206</td>\n",
              "      <td>2058330146</td>\n",
              "      <td>360</td>\n",
              "      <td>Jefferson</td>\n",
              "      <td>For profit - Individual</td>\n",
              "      <td>...</td>\n",
              "      <td>0</td>\n",
              "      <td>40</td>\n",
              "      <td>24.667</td>\n",
              "      <td>0</td>\n",
              "      <td>0</td>\n",
              "      <td>0</td>\n",
              "      <td>0</td>\n",
              "      <td>0</td>\n",
              "      <td>0</td>\n",
              "      <td>11/1/19</td>\n",
              "    </tr>\n",
              "    <tr>\n",
              "      <th>4</th>\n",
              "      <td>15015</td>\n",
              "      <td>PLANTATION MANOR NURSING HOME</td>\n",
              "      <td>6450 OLD TUSCALOOSA HIGHWAY   P O BOX 97</td>\n",
              "      <td>MC CALLA</td>\n",
              "      <td>AL</td>\n",
              "      <td>35111</td>\n",
              "      <td>2054776161</td>\n",
              "      <td>360</td>\n",
              "      <td>Jefferson</td>\n",
              "      <td>For profit - Individual</td>\n",
              "      <td>...</td>\n",
              "      <td>0</td>\n",
              "      <td>16</td>\n",
              "      <td>14</td>\n",
              "      <td>0</td>\n",
              "      <td>0</td>\n",
              "      <td>2</td>\n",
              "      <td>29611</td>\n",
              "      <td>0</td>\n",
              "      <td>2</td>\n",
              "      <td>11/1/19</td>\n",
              "    </tr>\n",
              "  </tbody>\n",
              "</table>\n",
              "<p>5 rows × 85 columns</p>\n",
              "</div>\n",
              "    <div class=\"colab-df-buttons\">\n",
              "\n",
              "  <div class=\"colab-df-container\">\n",
              "    <button class=\"colab-df-convert\" onclick=\"convertToInteractive('df-23a158b7-7f71-405f-a766-571fc6670189')\"\n",
              "            title=\"Convert this dataframe to an interactive table.\"\n",
              "            style=\"display:none;\">\n",
              "\n",
              "  <svg xmlns=\"http://www.w3.org/2000/svg\" height=\"24px\" viewBox=\"0 -960 960 960\">\n",
              "    <path d=\"M120-120v-720h720v720H120Zm60-500h600v-160H180v160Zm220 220h160v-160H400v160Zm0 220h160v-160H400v160ZM180-400h160v-160H180v160Zm440 0h160v-160H620v160ZM180-180h160v-160H180v160Zm440 0h160v-160H620v160Z\"/>\n",
              "  </svg>\n",
              "    </button>\n",
              "\n",
              "  <style>\n",
              "    .colab-df-container {\n",
              "      display:flex;\n",
              "      gap: 12px;\n",
              "    }\n",
              "\n",
              "    .colab-df-convert {\n",
              "      background-color: #E8F0FE;\n",
              "      border: none;\n",
              "      border-radius: 50%;\n",
              "      cursor: pointer;\n",
              "      display: none;\n",
              "      fill: #1967D2;\n",
              "      height: 32px;\n",
              "      padding: 0 0 0 0;\n",
              "      width: 32px;\n",
              "    }\n",
              "\n",
              "    .colab-df-convert:hover {\n",
              "      background-color: #E2EBFA;\n",
              "      box-shadow: 0px 1px 2px rgba(60, 64, 67, 0.3), 0px 1px 3px 1px rgba(60, 64, 67, 0.15);\n",
              "      fill: #174EA6;\n",
              "    }\n",
              "\n",
              "    .colab-df-buttons div {\n",
              "      margin-bottom: 4px;\n",
              "    }\n",
              "\n",
              "    [theme=dark] .colab-df-convert {\n",
              "      background-color: #3B4455;\n",
              "      fill: #D2E3FC;\n",
              "    }\n",
              "\n",
              "    [theme=dark] .colab-df-convert:hover {\n",
              "      background-color: #434B5C;\n",
              "      box-shadow: 0px 1px 3px 1px rgba(0, 0, 0, 0.15);\n",
              "      filter: drop-shadow(0px 1px 2px rgba(0, 0, 0, 0.3));\n",
              "      fill: #FFFFFF;\n",
              "    }\n",
              "  </style>\n",
              "\n",
              "    <script>\n",
              "      const buttonEl =\n",
              "        document.querySelector('#df-23a158b7-7f71-405f-a766-571fc6670189 button.colab-df-convert');\n",
              "      buttonEl.style.display =\n",
              "        google.colab.kernel.accessAllowed ? 'block' : 'none';\n",
              "\n",
              "      async function convertToInteractive(key) {\n",
              "        const element = document.querySelector('#df-23a158b7-7f71-405f-a766-571fc6670189');\n",
              "        const dataTable =\n",
              "          await google.colab.kernel.invokeFunction('convertToInteractive',\n",
              "                                                    [key], {});\n",
              "        if (!dataTable) return;\n",
              "\n",
              "        const docLinkHtml = 'Like what you see? Visit the ' +\n",
              "          '<a target=\"_blank\" href=https://colab.research.google.com/notebooks/data_table.ipynb>data table notebook</a>'\n",
              "          + ' to learn more about interactive tables.';\n",
              "        element.innerHTML = '';\n",
              "        dataTable['output_type'] = 'display_data';\n",
              "        await google.colab.output.renderOutput(dataTable, element);\n",
              "        const docLink = document.createElement('div');\n",
              "        docLink.innerHTML = docLinkHtml;\n",
              "        element.appendChild(docLink);\n",
              "      }\n",
              "    </script>\n",
              "  </div>\n",
              "\n",
              "\n",
              "<div id=\"df-719a829a-9096-4bb4-abd8-daed8920ebce\">\n",
              "  <button class=\"colab-df-quickchart\" onclick=\"quickchart('df-719a829a-9096-4bb4-abd8-daed8920ebce')\"\n",
              "            title=\"Suggest charts\"\n",
              "            style=\"display:none;\">\n",
              "\n",
              "<svg xmlns=\"http://www.w3.org/2000/svg\" height=\"24px\"viewBox=\"0 0 24 24\"\n",
              "     width=\"24px\">\n",
              "    <g>\n",
              "        <path d=\"M19 3H5c-1.1 0-2 .9-2 2v14c0 1.1.9 2 2 2h14c1.1 0 2-.9 2-2V5c0-1.1-.9-2-2-2zM9 17H7v-7h2v7zm4 0h-2V7h2v10zm4 0h-2v-4h2v4z\"/>\n",
              "    </g>\n",
              "</svg>\n",
              "  </button>\n",
              "\n",
              "<style>\n",
              "  .colab-df-quickchart {\n",
              "      --bg-color: #E8F0FE;\n",
              "      --fill-color: #1967D2;\n",
              "      --hover-bg-color: #E2EBFA;\n",
              "      --hover-fill-color: #174EA6;\n",
              "      --disabled-fill-color: #AAA;\n",
              "      --disabled-bg-color: #DDD;\n",
              "  }\n",
              "\n",
              "  [theme=dark] .colab-df-quickchart {\n",
              "      --bg-color: #3B4455;\n",
              "      --fill-color: #D2E3FC;\n",
              "      --hover-bg-color: #434B5C;\n",
              "      --hover-fill-color: #FFFFFF;\n",
              "      --disabled-bg-color: #3B4455;\n",
              "      --disabled-fill-color: #666;\n",
              "  }\n",
              "\n",
              "  .colab-df-quickchart {\n",
              "    background-color: var(--bg-color);\n",
              "    border: none;\n",
              "    border-radius: 50%;\n",
              "    cursor: pointer;\n",
              "    display: none;\n",
              "    fill: var(--fill-color);\n",
              "    height: 32px;\n",
              "    padding: 0;\n",
              "    width: 32px;\n",
              "  }\n",
              "\n",
              "  .colab-df-quickchart:hover {\n",
              "    background-color: var(--hover-bg-color);\n",
              "    box-shadow: 0 1px 2px rgba(60, 64, 67, 0.3), 0 1px 3px 1px rgba(60, 64, 67, 0.15);\n",
              "    fill: var(--button-hover-fill-color);\n",
              "  }\n",
              "\n",
              "  .colab-df-quickchart-complete:disabled,\n",
              "  .colab-df-quickchart-complete:disabled:hover {\n",
              "    background-color: var(--disabled-bg-color);\n",
              "    fill: var(--disabled-fill-color);\n",
              "    box-shadow: none;\n",
              "  }\n",
              "\n",
              "  .colab-df-spinner {\n",
              "    border: 2px solid var(--fill-color);\n",
              "    border-color: transparent;\n",
              "    border-bottom-color: var(--fill-color);\n",
              "    animation:\n",
              "      spin 1s steps(1) infinite;\n",
              "  }\n",
              "\n",
              "  @keyframes spin {\n",
              "    0% {\n",
              "      border-color: transparent;\n",
              "      border-bottom-color: var(--fill-color);\n",
              "      border-left-color: var(--fill-color);\n",
              "    }\n",
              "    20% {\n",
              "      border-color: transparent;\n",
              "      border-left-color: var(--fill-color);\n",
              "      border-top-color: var(--fill-color);\n",
              "    }\n",
              "    30% {\n",
              "      border-color: transparent;\n",
              "      border-left-color: var(--fill-color);\n",
              "      border-top-color: var(--fill-color);\n",
              "      border-right-color: var(--fill-color);\n",
              "    }\n",
              "    40% {\n",
              "      border-color: transparent;\n",
              "      border-right-color: var(--fill-color);\n",
              "      border-top-color: var(--fill-color);\n",
              "    }\n",
              "    60% {\n",
              "      border-color: transparent;\n",
              "      border-right-color: var(--fill-color);\n",
              "    }\n",
              "    80% {\n",
              "      border-color: transparent;\n",
              "      border-right-color: var(--fill-color);\n",
              "      border-bottom-color: var(--fill-color);\n",
              "    }\n",
              "    90% {\n",
              "      border-color: transparent;\n",
              "      border-bottom-color: var(--fill-color);\n",
              "    }\n",
              "  }\n",
              "</style>\n",
              "\n",
              "  <script>\n",
              "    async function quickchart(key) {\n",
              "      const quickchartButtonEl =\n",
              "        document.querySelector('#' + key + ' button');\n",
              "      quickchartButtonEl.disabled = true;  // To prevent multiple clicks.\n",
              "      quickchartButtonEl.classList.add('colab-df-spinner');\n",
              "      try {\n",
              "        const charts = await google.colab.kernel.invokeFunction(\n",
              "            'suggestCharts', [key], {});\n",
              "      } catch (error) {\n",
              "        console.error('Error during call to suggestCharts:', error);\n",
              "      }\n",
              "      quickchartButtonEl.classList.remove('colab-df-spinner');\n",
              "      quickchartButtonEl.classList.add('colab-df-quickchart-complete');\n",
              "    }\n",
              "    (() => {\n",
              "      let quickchartButtonEl =\n",
              "        document.querySelector('#df-719a829a-9096-4bb4-abd8-daed8920ebce button');\n",
              "      quickchartButtonEl.style.display =\n",
              "        google.colab.kernel.accessAllowed ? 'block' : 'none';\n",
              "    })();\n",
              "  </script>\n",
              "</div>\n",
              "    </div>\n",
              "  </div>\n"
            ],
            "application/vnd.google.colaboratory.intrinsic+json": {
              "type": "dataframe",
              "variable_name": "df_PROVIDER2019"
            }
          },
          "metadata": {},
          "execution_count": 14
        }
      ]
    },
    {
      "cell_type": "markdown",
      "source": [
        "Below we can see that there are still no matching columns across each year's Provider Info data"
      ],
      "metadata": {
        "id": "x86728BToPTY"
      }
    },
    {
      "cell_type": "code",
      "source": [
        "# Getting column names of each DataFrame\n",
        "columns_PROVIDER2015 = df_PROVIDER2015.columns\n",
        "columns_PROVIDER2016 = df_PROVIDER2016.columns\n",
        "columns_PROVIDER2017 = df_PROVIDER2017.columns\n",
        "columns_PROVIDER2018 = df_PROVIDER2018.columns\n",
        "columns_PROVIDER2019 = df_PROVIDER2019.columns\n",
        "columns_PROVIDER2020 = df_PROVIDER2020.columns\n",
        "columns_PROVIDER2021 = df_PROVIDER2021.columns\n",
        "\n",
        "# Finding common attributes\n",
        "common_PROVIDERattributes = set(columns_PROVIDER2015) & set(columns_PROVIDER2016) & set(columns_PROVIDER2017) & set(columns_PROVIDER2018) & set(columns_PROVIDER2019) & set(columns_PROVIDER2020) & set(columns_PROVIDER2021)\n",
        "\n",
        "# Print common attributes\n",
        "print(\"Common attributes among all datasets:\")\n",
        "print(common_PROVIDERattributes)"
      ],
      "metadata": {
        "colab": {
          "base_uri": "https://localhost:8080/"
        },
        "id": "ZLyFfa5wl0OS",
        "outputId": "48d7df2f-7dfe-4e9d-c5e6-fced6c2c1f20"
      },
      "execution_count": null,
      "outputs": [
        {
          "output_type": "stream",
          "name": "stdout",
          "text": [
            "Common attributes among all datasets:\n",
            "set()\n"
          ]
        }
      ]
    },
    {
      "cell_type": "markdown",
      "source": [
        "The below chunk of code shows that years 2020 and 2021 do not have PROVNUM as an attribute name."
      ],
      "metadata": {
        "id": "EQcujqcEjyCM"
      }
    },
    {
      "cell_type": "code",
      "source": [
        "# List of DataFrames\n",
        "dfs = [df_PROVIDER2015, df_PROVIDER2016, df_PROVIDER2017, df_PROVIDER2018,\n",
        "       df_PROVIDER2019, df_PROVIDER2020, df_PROVIDER2021]\n",
        "\n",
        "# Loop through each DataFrame and check the data type of the 'PROVNUM' attribute\n",
        "for i, df in enumerate(dfs):\n",
        "    try:\n",
        "        if 'PROVNUM' in df.columns:\n",
        "            data_type = df['PROVNUM'].dtype\n",
        "            print(f\"Data type of 'PROVNUM' attribute in DataFrame {i + 2015}: {data_type}\")\n",
        "        else:\n",
        "            print(f\"'PROVNUM' attribute does not exist in DataFrame {i + 2015}\")\n",
        "    except KeyError:\n",
        "        print(f\"'PROVNUM' attribute does not exist in DataFrame {i + 2015}\")"
      ],
      "metadata": {
        "colab": {
          "base_uri": "https://localhost:8080/"
        },
        "id": "ppnjsmg5jrP0",
        "outputId": "df1e846e-995b-4faa-e543-7eb93442cbb3"
      },
      "execution_count": null,
      "outputs": [
        {
          "output_type": "stream",
          "name": "stdout",
          "text": [
            "Data type of 'PROVNUM' attribute in DataFrame 2015: object\n",
            "Data type of 'PROVNUM' attribute in DataFrame 2016: object\n",
            "Data type of 'PROVNUM' attribute in DataFrame 2017: object\n",
            "Data type of 'PROVNUM' attribute in DataFrame 2018: object\n",
            "Data type of 'PROVNUM' attribute in DataFrame 2019: object\n",
            "'PROVNUM' attribute does not exist in DataFrame 2020\n",
            "'PROVNUM' attribute does not exist in DataFrame 2021\n"
          ]
        }
      ]
    },
    {
      "cell_type": "markdown",
      "source": [
        "Below we can see that the column names are \"cleaner\" than the previous years."
      ],
      "metadata": {
        "id": "E0Oe9fyWkJ70"
      }
    },
    {
      "cell_type": "code",
      "source": [
        "print(df_PROVIDER2021.columns)\n"
      ],
      "metadata": {
        "colab": {
          "base_uri": "https://localhost:8080/"
        },
        "id": "kGS-XOWBj-Hm",
        "outputId": "f5cba727-21e8-4796-ec7f-48f94408d9da"
      },
      "execution_count": null,
      "outputs": [
        {
          "output_type": "stream",
          "name": "stdout",
          "text": [
            "Index(['Federal Provider Number', 'Provider Name', 'Provider Address',\n",
            "       'Provider City', 'Provider State', 'Provider Zip Code',\n",
            "       'Provider Phone Number', 'Provider SSA County Code',\n",
            "       'Provider County Name', 'Ownership Type', 'Number of Certified Beds',\n",
            "       'Average Number of Residents per Day',\n",
            "       'Average Number of Residents per Day Footnote', 'Provider Type',\n",
            "       'Provider Resides in Hospital', 'Legal Business Name',\n",
            "       'Date First Approved to Provide Medicare and Medicaid Services',\n",
            "       'Continuing Care Retirement Community', 'Special Focus Status',\n",
            "       'Abuse Icon', 'Most Recent Health Inspection More Than 2 Years Ago',\n",
            "       'Provider Changed Ownership in Last 12 Months',\n",
            "       'With a Resident and Family Council',\n",
            "       'Automatic Sprinkler Systems in All Required Areas', 'Overall Rating',\n",
            "       'Overall Rating Footnote', 'Health Inspection Rating',\n",
            "       'Health Inspection Rating Footnote', 'QM Rating', 'QM Rating Footnote',\n",
            "       'Long-Stay QM Rating', 'Long-Stay QM Rating Footnote',\n",
            "       'Short-Stay QM Rating', 'Short-Stay QM Rating Footnote',\n",
            "       'Staffing Rating', 'Staffing Rating Footnote', 'RN Staffing Rating',\n",
            "       'RN Staffing Rating Footnote', 'Reported Staffing Footnote',\n",
            "       'Physical Therapist Staffing Footnote',\n",
            "       'Reported Nurse Aide Staffing Hours per Resident per Day',\n",
            "       'Reported LPN Staffing Hours per Resident per Day',\n",
            "       'Reported RN Staffing Hours per Resident per Day',\n",
            "       'Reported Licensed Staffing Hours per Resident per Day',\n",
            "       'Reported Total Nurse Staffing Hours per Resident per Day',\n",
            "       'Reported Physical Therapist Staffing Hours per Resident Per Day',\n",
            "       'Case-Mix Nurse Aide Staffing Hours per Resident per Day',\n",
            "       'Case-Mix LPN Staffing Hours per Resident per Day',\n",
            "       'Case-Mix RN Staffing Hours per Resident per Day',\n",
            "       'Case-Mix Total Nurse Staffing Hours per Resident per Day',\n",
            "       'Adjusted Nurse Aide Staffing Hours per Resident per Day',\n",
            "       'Adjusted LPN Staffing Hours per Resident per Day',\n",
            "       'Adjusted RN Staffing Hours per Resident per Day',\n",
            "       'Adjusted Total Nurse Staffing Hours per Resident per Day',\n",
            "       'Rating Cycle 1 Standard Survey Health Date',\n",
            "       'Rating Cycle 1 Total Number of Health Deficiencies',\n",
            "       'Rating Cycle 1 Number of Standard Health Deficiencies',\n",
            "       'Rating Cycle 1 Number of Complaint Health Deficiencies',\n",
            "       'Rating Cycle 1 Health Deficiency Score',\n",
            "       'Rating Cycle 1 Number of Health Revisits',\n",
            "       'Rating Cycle 1 Health Revisit Score',\n",
            "       'Rating Cycle 1 Total Health Score',\n",
            "       'Rating Cycle 2 Standard Health Survey Date',\n",
            "       'Rating Cycle 2 Total Number of Health Deficiencies',\n",
            "       'Rating Cycle 2 Number of Standard Health Deficiencies',\n",
            "       'Rating Cycle 2 Number of Complaint Health Deficiencies',\n",
            "       'Rating Cycle 2 Health Deficiency Score',\n",
            "       'Rating Cycle 2 Number of Health Revisits',\n",
            "       'Rating Cycle 2 Health Revisit Score',\n",
            "       'Rating Cycle 2 Total Health Score',\n",
            "       'Rating Cycle 3 Standard Health Survey Date',\n",
            "       'Rating Cycle 3 Total Number of Health Deficiencies',\n",
            "       'Rating Cycle 3 Number of Standard Health Deficiencies',\n",
            "       'Rating Cycle 3 Number of Complaint Health Deficiencies',\n",
            "       'Rating Cycle 3 Health Deficiency Score',\n",
            "       'Rating Cycle 3 Number of Health Revisits',\n",
            "       'Rating Cycle 3 Health Revisit Score',\n",
            "       'Rating Cycle 3 Total Health Score',\n",
            "       'Total Weighted Health Survey Score',\n",
            "       'Number of Facility Reported Incidents',\n",
            "       'Number of Substantiated Complaints',\n",
            "       'Number of Citations from Infection Control Inspections',\n",
            "       'Number of Fines', 'Total Amount of Fines in Dollars',\n",
            "       'Number of Payment Denials', 'Total Number of Penalties', 'Location',\n",
            "       'Processing Date'],\n",
            "      dtype='object')\n"
          ]
        }
      ]
    },
    {
      "cell_type": "markdown",
      "source": [
        "### **Cleaning 2020 and 2021 attribute names to match 2015-2019**"
      ],
      "metadata": {
        "id": "1wmg3TCeuJ3B"
      }
    },
    {
      "cell_type": "markdown",
      "source": [
        "In the next chunk of code we will match the attribute names from previous years to 2020 and 2021, so that we can merge the files for the Provider Info dataset"
      ],
      "metadata": {
        "id": "OV0XVPT1kUvI"
      }
    },
    {
      "cell_type": "code",
      "source": [
        "# Define the mapping of old column names to new column names\n",
        "column_mapping1 = {\n",
        "    'Federal Provider Number': 'PROVNUM',\n",
        "    'Provider Name': 'PROVNAME',\n",
        "    'Provider Address': 'ADDRESS',\n",
        "    'Provider City': 'CITY',\n",
        "    'Provider State': 'STATE',\n",
        "    'Provider Zip Code': 'ZIP',\n",
        "    'Provider Phone Number': 'PHONE',\n",
        "    'Provider SSA County Code': 'COUNTY_SSA',\n",
        "    'Provider County Name': 'COUNTY_NAME',\n",
        "    'Ownership Type': 'OWNERSHIP',\n",
        "    'Number of Certified Beds': 'BEDCERT',\n",
        "    'Average Number of Residents per Day': 'RESTOT',\n",
        "    'Provider Type': 'CERTIFICATION',\n",
        "    'Provider Resides in Hospital': 'INHOSP',\n",
        "    'Legal Business Name': 'LBN',\n",
        "    'Date First Approved to Provide Medicare and Medicaid Services': 'PARTICIPATION_DATE',\n",
        "    'Continuing Care Retirement Community': 'CCRC_FACIL',\n",
        "    'Special Focus Status': 'SFFSTATUS',\n",
        "    'Abuse Icon': 'ABUSE_ICON',\n",
        "    'Most Recent Health Inspection More Than 2 Years Ago': 'OLDSURVEY',\n",
        "    'Provider Changed Ownership in Last 12 Months': 'CHOW_LAST_12MOS',\n",
        "    'With a Resident and Family Council': 'RESFAMCOUNCIL',\n",
        "    'Automatic Sprinkler Systems in All Required Areas': 'SPRINKLER_STATUS',\n",
        "    'Overall Rating': 'OVERALL_RATING',\n",
        "    'Overall Rating Footnote': 'OVERALL_RATING_FN',\n",
        "    'Health Inspection Rating': 'SURVEY_RATING',\n",
        "    'Health Inspection Rating Footnote': 'SURVEY_RATING_FN',\n",
        "    'QM Rating': 'QUALITY_RATING',\n",
        "    'QM Rating Footnote': 'QUALITY_RATING_FN',\n",
        "    'Long-Stay QM Rating': 'LS_QUALITY_RATING',\n",
        "    'Long-Stay QM Rating Footnote': 'LS_QUALITY_RATING_FN',\n",
        "    'Short-Stay QM Rating': 'SS_QUALITY_RATING',\n",
        "    'Short-Stay QM Rating Footnote': 'SS_QUALITY_RATING_FN',\n",
        "    'Staffing Rating': 'STAFFING_RATING',\n",
        "    'Staffing Rating Footnote': 'STAFFING_RATING_FN',\n",
        "    'RN Staffing Rating': 'RN_STAFFING_RATING',\n",
        "    'RN Staffing Rating Footnote': 'RN_STAFFING_RATING_FN',\n",
        "    'Reported Staffing Footnote': 'STAFFING_FLAG',\n",
        "    'Physical Therapist Staffing Footnote': 'PT_STAFFING_FLAG',\n",
        "    'Reported Nurse Aide Staffing Hours per Resident per Day': 'AIDHRD',\n",
        "    'Reported LPN Staffing Hours per Resident per Day': 'VOCHRD',\n",
        "    'Reported RN Staffing Hours per Resident per Day': 'RNHRD',\n",
        "    'Reported Licensed Staffing Hours per Resident per Day': 'TOTLICHRD',\n",
        "    'Reported Total Nurse Staffing Hours per Resident per Day': 'TOTHRD',\n",
        "    'Reported Physical Therapist Staffing Hours per Resident Per Day': 'PTHRD',\n",
        "    'Case-Mix Nurse Aide Staffing Hours per Resident per Day': 'CM_AIDE',\n",
        "    'Case-Mix LPN Staffing Hours per Resident per Day': 'CM_LPN',\n",
        "    'Case-Mix RN Staffing Hours per Resident per Day': 'CM_RN',\n",
        "    'Case-Mix Total Nurse Staffing Hours per Resident per Day': 'CM_TOTAL',\n",
        "    'Adjusted Nurse Aide Staffing Hours per Resident per Day': 'ADJ_AIDE',\n",
        "    'Adjusted LPN Staffing Hours per Resident per Day': 'ADJ_LPN',\n",
        "    'Adjusted RN Staffing Hours per Resident per Day': 'ADJ_RN',\n",
        "    'Adjusted Total Nurse Staffing Hours per Resident per Day': 'ADJ_TOTAL',\n",
        "    'Rating Cycle 1 Standard Survey Health Date': 'CYCLE_1_SURVEY_DATE',\n",
        "    'Rating Cycle 1 Total Number of Health Deficiencies': 'CYCLE_1_DEFS',\n",
        "    'Rating Cycle 1 Number of Standard Health Deficiencies': 'CYCLE_1_NFROMDEFS',\n",
        "    'Rating Cycle 1 Number of Complaint Health Deficiencies': 'CYCLE_1_NFROMCOMP',\n",
        "    'Rating Cycle 1 Health Deficiency Score': 'CYCLE_1_DEFS_SCORE',\n",
        "    'Rating Cycle 1 Number of Health Revisits': 'CYCLE_1_NUMREVIS',\n",
        "    'Rating Cycle 1 Health Revisit Score': 'CYCLE_1_REVISIT_SCORE',\n",
        "    'Rating Cycle 1 Total Health Score': 'CYCLE_1_TOTAL_SCORE',\n",
        "    'Rating Cycle 2 Standard Health Survey Date': 'CYCLE_2_SURVEY_DATE',\n",
        "    'Rating Cycle 2 Total Number of Health Deficiencies': 'CYCLE_2_DEFS',\n",
        "    'Rating Cycle 2 Number of Standard Health Deficiencies': 'CYCLE_2_NFROMDEFS',\n",
        "    'Rating Cycle 2 Number of Complaint Health Deficiencies': 'CYCLE_2_NFROMCOMP',\n",
        "    'Rating Cycle 2 Health Deficiency Score': 'CYCLE_2_DEFS_SCORE',\n",
        "    'Rating Cycle 2 Number of Health Revisits': 'CYCLE_2_NUMREVIS',\n",
        "    'Rating Cycle 2 Health Revisit Score': 'CYCLE_2_REVISIT_SCORE',\n",
        "    'Rating Cycle 2 Total Health Score': 'CYCLE_2_TOTAL_SCORE',\n",
        "    'Rating Cycle 3 Standard Health Survey Date': 'CYCLE_3_SURVEY_DATE',\n",
        "    'Rating Cycle 3 Total Number of Health Deficiencies': 'CYCLE_3_DEFS',\n",
        "    'Rating Cycle 3 Number of Standard Health Deficiencies': 'CYCLE_3_NFROMDEFS',\n",
        "    'Rating Cycle 3 Number of Complaint Health Deficiencies': 'CYCLE_3_NFROMCOMP',\n",
        "    'Rating Cycle 3 Health Deficiency Score': 'CYCLE_3_DEFS_SCORE',\n",
        "    'Rating Cycle 3 Number of Health Revisits': 'CYCLE_3_NUMREVIS',\n",
        "    'Rating Cycle 3 Health Revisit Score': 'CYCLE_3_REVISIT_SCORE',\n",
        "    'Rating Cycle 3 Total Health Score': 'CYCLE_3_TOTAL_SCORE',\n",
        "    'Total Weighted Health Survey Score': 'WEIGHTED_ALL_CYCLES_SCORE',\n",
        "    'Number of Facility Reported Incidents': 'INCIDENT_CNT',\n",
        "    'Number of Substantiated Complaints': 'CMPLNT_CNT',\n",
        "    'Number of Fines': 'FINE_CNT',\n",
        "    'Total Amount of Fines in Dollars': 'FINE_TOT',\n",
        "    'Number of Payment Denials': 'PAYDEN_CNT',\n",
        "    'Total Number of Penalties': 'TOT_PENLTY_CNT',\n",
        "    'Processing Date': 'FILEDATE'}\n",
        "\n",
        "df_PROVIDER2020.rename(columns=column_mapping1, inplace=True)\n",
        "df_PROVIDER2021.rename(columns=column_mapping1, inplace=True)"
      ],
      "metadata": {
        "id": "zU58lPBCkUOE"
      },
      "execution_count": null,
      "outputs": []
    },
    {
      "cell_type": "code",
      "source": [
        "print(df_PROVIDER2021.columns)\n"
      ],
      "metadata": {
        "colab": {
          "base_uri": "https://localhost:8080/"
        },
        "id": "i4IBI4hjqORU",
        "outputId": "4c292b64-51aa-4971-8246-f72b9a0dc1a0"
      },
      "execution_count": null,
      "outputs": [
        {
          "output_type": "stream",
          "name": "stdout",
          "text": [
            "Index(['PROVNUM', 'PROVNAME', 'ADDRESS', 'CITY', 'STATE', 'ZIP', 'PHONE',\n",
            "       'COUNTY_SSA', 'COUNTY_NAME', 'OWNERSHIP', 'BEDCERT', 'RESTOT',\n",
            "       'Average Number of Residents per Day Footnote', 'CERTIFICATION',\n",
            "       'INHOSP', 'LBN', 'PARTICIPATION_DATE', 'CCRC_FACIL', 'SFFSTATUS',\n",
            "       'ABUSE_ICON', 'OLDSURVEY', 'CHOW_LAST_12MOS', 'RESFAMCOUNCIL',\n",
            "       'SPRINKLER_STATUS', 'OVERALL_RATING', 'OVERALL_RATING_FN',\n",
            "       'SURVEY_RATING', 'SURVEY_RATING_FN', 'QUALITY_RATING',\n",
            "       'QUALITY_RATING_FN', 'LS_QUALITY_RATING', 'LS_QUALITY_RATING_FN',\n",
            "       'SS_QUALITY_RATING', 'SS_QUALITY_RATING_FN', 'STAFFING_RATING',\n",
            "       'STAFFING_RATING_FN', 'RN_STAFFING_RATING', 'RN_STAFFING_RATING_FN',\n",
            "       'STAFFING_FLAG', 'PT_STAFFING_FLAG', 'AIDHRD', 'VOCHRD', 'RNHRD',\n",
            "       'TOTLICHRD', 'TOTHRD', 'PTHRD', 'CM_AIDE', 'CM_LPN', 'CM_RN',\n",
            "       'CM_TOTAL', 'ADJ_AIDE', 'ADJ_LPN', 'ADJ_RN', 'ADJ_TOTAL',\n",
            "       'CYCLE_1_SURVEY_DATE', 'CYCLE_1_DEFS', 'CYCLE_1_NFROMDEFS',\n",
            "       'CYCLE_1_NFROMCOMP', 'CYCLE_1_DEFS_SCORE', 'CYCLE_1_NUMREVIS',\n",
            "       'CYCLE_1_REVISIT_SCORE', 'CYCLE_1_TOTAL_SCORE', 'CYCLE_2_SURVEY_DATE',\n",
            "       'CYCLE_2_DEFS', 'CYCLE_2_NFROMDEFS', 'CYCLE_2_NFROMCOMP',\n",
            "       'CYCLE_2_DEFS_SCORE', 'CYCLE_2_NUMREVIS', 'CYCLE_2_REVISIT_SCORE',\n",
            "       'CYCLE_2_TOTAL_SCORE', 'CYCLE_3_SURVEY_DATE', 'CYCLE_3_DEFS',\n",
            "       'CYCLE_3_NFROMDEFS', 'CYCLE_3_NFROMCOMP', 'CYCLE_3_DEFS_SCORE',\n",
            "       'CYCLE_3_NUMREVIS', 'CYCLE_3_REVISIT_SCORE', 'CYCLE_3_TOTAL_SCORE',\n",
            "       'WEIGHTED_ALL_CYCLES_SCORE', 'INCIDENT_CNT', 'CMPLNT_CNT',\n",
            "       'Number of Citations from Infection Control Inspections', 'FINE_CNT',\n",
            "       'FINE_TOT', 'PAYDEN_CNT', 'TOT_PENLTY_CNT', 'Location', 'FILEDATE'],\n",
            "      dtype='object')\n"
          ]
        }
      ]
    },
    {
      "cell_type": "markdown",
      "source": [
        "### **Check that columns were renamed and match across years for Provider Info dataset:**\n"
      ],
      "metadata": {
        "id": "n2E-1_kRtoXT"
      }
    },
    {
      "cell_type": "code",
      "source": [
        "# Getting column names of each DataFrame\n",
        "columns_PROVIDER2015 = df_PROVIDER2015.columns\n",
        "columns_PROVIDER2016 = df_PROVIDER2016.columns\n",
        "columns_PROVIDER2017 = df_PROVIDER2017.columns\n",
        "columns_PROVIDER2018 = df_PROVIDER2018.columns\n",
        "columns_PROVIDER2019 = df_PROVIDER2019.columns\n",
        "columns_PROVIDER2020 = df_PROVIDER2020.columns\n",
        "columns_PROVIDER2021 = df_PROVIDER2021.columns\n",
        "\n",
        "# Finding common attributes\n",
        "common_PROVIDERattributes = set(columns_PROVIDER2015) & set(columns_PROVIDER2016) & set(columns_PROVIDER2017) & set(columns_PROVIDER2018) & set(columns_PROVIDER2019) & set(columns_PROVIDER2020) & set(columns_PROVIDER2021)\n",
        "\n",
        "# Print common attributes\n",
        "print(\"Common attributes among all datasets:\")\n",
        "print(common_PROVIDERattributes)"
      ],
      "metadata": {
        "colab": {
          "base_uri": "https://localhost:8080/"
        },
        "id": "ppiikIUFtnrQ",
        "outputId": "2d1d72e3-c4f9-428f-ff2b-0cee7fe2c68d"
      },
      "execution_count": null,
      "outputs": [
        {
          "output_type": "stream",
          "name": "stdout",
          "text": [
            "Common attributes among all datasets:\n",
            "{'CYCLE_1_SURVEY_DATE', 'VOCHRD', 'LBN', 'ZIP', 'RN_STAFFING_RATING', 'ADJ_LPN', 'PAYDEN_CNT', 'SURVEY_RATING_FN', 'PARTICIPATION_DATE', 'CYCLE_2_REVISIT_SCORE', 'SURVEY_RATING', 'STAFFING_FLAG', 'TOT_PENLTY_CNT', 'AIDHRD', 'FINE_CNT', 'PHONE', 'RESFAMCOUNCIL', 'RNHRD', 'PT_STAFFING_FLAG', 'STAFFING_RATING', 'CYCLE_1_NUMREVIS', 'CYCLE_1_TOTAL_SCORE', 'PTHRD', 'CYCLE_1_DEFS', 'CITY', 'COUNTY_SSA', 'FINE_TOT', 'FILEDATE', 'STAFFING_RATING_FN', 'INCIDENT_CNT', 'CYCLE_2_DEFS', 'ADDRESS', 'RESTOT', 'CYCLE_1_DEFS_SCORE', 'QUALITY_RATING_FN', 'INHOSP', 'PROVNUM', 'CYCLE_1_REVISIT_SCORE', 'BEDCERT', 'QUALITY_RATING', 'CYCLE_2_SURVEY_DATE', 'STATE', 'OVERALL_RATING', 'CYCLE_2_NFROMDEFS', 'ADJ_TOTAL', 'CYCLE_2_NUMREVIS', 'CCRC_FACIL', 'CYCLE_2_DEFS_SCORE', 'CYCLE_2_TOTAL_SCORE', 'PROVNAME', 'CYCLE_1_NFROMDEFS', 'WEIGHTED_ALL_CYCLES_SCORE', 'TOTHRD', 'CYCLE_2_NFROMCOMP', 'RN_STAFFING_RATING_FN', 'COUNTY_NAME', 'ADJ_RN', 'CERTIFICATION', 'OVERALL_RATING_FN', 'SPRINKLER_STATUS', 'ADJ_AIDE', 'CYCLE_1_NFROMCOMP', 'CHOW_LAST_12MOS', 'OWNERSHIP', 'TOTLICHRD', 'CMPLNT_CNT'}\n"
          ]
        }
      ]
    },
    {
      "cell_type": "markdown",
      "source": [
        "**Add a column for Year to the Provider Info datasets.\n",
        "Combine all the datasets into one**"
      ],
      "metadata": {
        "id": "eEzcp0Dsugny"
      }
    },
    {
      "cell_type": "code",
      "source": [
        "#Add a column to each year's dataset that lists the year\n",
        "df_PROVIDER2015['Year'] = 2015\n",
        "df_PROVIDER2016['Year'] = 2016\n",
        "df_PROVIDER2017['Year'] = 2017\n",
        "df_PROVIDER2018['Year'] = 2018\n",
        "df_PROVIDER2019['Year'] = 2019\n",
        "df_PROVIDER2020['Year'] = 2020\n",
        "df_PROVIDER2021['Year'] = 2021\n",
        "\n",
        "# Concatenate the DataFrames\n",
        "concatPROVIDER_df = pd.concat([df_PROVIDER2015, df_PROVIDER2016, df_PROVIDER2017, df_PROVIDER2018, df_PROVIDER2019, df_PROVIDER2020, df_PROVIDER2021], ignore_index=True)"
      ],
      "metadata": {
        "id": "v6LjCX-fuZ6q"
      },
      "execution_count": null,
      "outputs": []
    },
    {
      "cell_type": "code",
      "source": [
        "print(concatPROVIDER_df.columns)"
      ],
      "metadata": {
        "colab": {
          "base_uri": "https://localhost:8080/"
        },
        "id": "TxJ1T5vJuxP9",
        "outputId": "c955e0e2-f45e-4c76-a2af-88dffa3bd14c"
      },
      "execution_count": null,
      "outputs": [
        {
          "output_type": "stream",
          "name": "stdout",
          "text": [
            "Index(['PROVNUM', 'PROVNAME', 'ADDRESS', 'CITY', 'STATE', 'ZIP', 'PHONE',\n",
            "       'COUNTY_SSA', 'COUNTY_NAME', 'OWNERSHIP', 'BEDCERT', 'RESTOT',\n",
            "       'CERTIFICATION', 'INHOSP', 'LBN', 'PARTICIPATION_DATE', 'CCRC_FACIL',\n",
            "       'SFF', 'CHOW_LAST_12MOS', 'RESFAMCOUNCIL', 'SPRINKLER_STATUS',\n",
            "       'OVERALL_RATING', 'OVERALL_RATING_FN', 'SURVEY_RATING',\n",
            "       'SURVEY_RATING_FN', 'QUALITY_RATING', 'QUALITY_RATING_FN',\n",
            "       'STAFFING_RATING', 'STAFFING_RATING_FN', 'RN_STAFFING_RATING',\n",
            "       'RN_STAFFING_RATING_FN', 'STAFFING_FLAG', 'PT_STAFFING_FLAG', 'AIDHRD',\n",
            "       'VOCHRD', 'RNHRD', 'TOTLICHRD', 'TOTHRD', 'PTHRD', 'EXP_AIDE',\n",
            "       'EXP_LPN', 'EXP_RN', 'EXP_TOTAL', 'ADJ_AIDE', 'ADJ_LPN', 'ADJ_RN',\n",
            "       'ADJ_TOTAL', 'CYCLE_1_DEFS', 'CYCLE_1_NFROMDEFS', 'CYCLE_1_NFROMCOMP',\n",
            "       'CYCLE_1_DEFS_SCORE', 'CYCLE_1_SURVEY_DATE', 'CYCLE_1_NUMREVIS',\n",
            "       'CYCLE_1_REVISIT_SCORE', 'CYCLE_1_TOTAL_SCORE', 'CYCLE_2_DEFS',\n",
            "       'CYCLE_2_NFROMDEFS', 'CYCLE_2_NFROMCOMP', 'CYCLE_2_DEFS_SCORE',\n",
            "       'CYCLE_2_SURVEY_DATE', 'CYCLE_2_NUMREVIS', 'CYCLE_2_REVISIT_SCORE',\n",
            "       'CYCLE_2_TOTAL_SCORE', 'CYCLE_3_DEFS', 'CYCLE_3_NFROMDEFS',\n",
            "       'CYCLE_3_NFROMCOMP', 'CYCLE_3_DEFS_SCORE', 'CYCLE_3_SURVEY_DATE',\n",
            "       'CYCLE_3_NUMREVIS', 'CYCLE_3_REVISIT_SCORE', 'CYCLE_3_TOTAL_SCORE',\n",
            "       'WEIGHTED_ALL_CYCLES_SCORE', 'INCIDENT_CNT', 'CMPLNT_CNT', 'FINE_CNT',\n",
            "       'FINE_TOT', 'PAYDEN_CNT', 'TOT_PENLTY_CNT', 'FILEDATE', 'Year',\n",
            "       'OLDSURVEY', 'R_SRVY_DT_F', 'R_TOT_HTH_DFCNCY', 'R_HTH_SVRTY',\n",
            "       'R_HTH_SCOPE', 'PREV_SRVY_DT_F', 'PREV_TOT_HTH_DFCNCY', 'SFFSTATUS',\n",
            "       'ABUSE_ICON', 'LS_QUALITY_RATING', 'LS_QUALITY_RATING_FN',\n",
            "       'SS_QUALITY_RATING', 'SS_QUALITY_RATING_FN', 'CM_AIDE', 'CM_LPN',\n",
            "       'CM_RN', 'CM_TOTAL', 'Average Number of Residents per Day Footnote',\n",
            "       'Location', 'Number of Citations from Infection Control Inspections'],\n",
            "      dtype='object')\n"
          ]
        }
      ]
    },
    {
      "cell_type": "markdown",
      "source": [
        "## **Load in Quality MSR Dataset**"
      ],
      "metadata": {
        "id": "VokQiA6iBppz"
      }
    },
    {
      "cell_type": "markdown",
      "source": [
        "While loading in the dataset, the files were fairly large, so the appended code for encoding and low memory were added as recommended by the python script/output"
      ],
      "metadata": {
        "id": "gvyzDnY9Ry0F"
      }
    },
    {
      "cell_type": "code",
      "source": [
        "# QUALITY MSR DATASET\n",
        "df_QUALITY2015 = pd.read_csv('QualityMsrMDS_2015.csv', encoding='utf-8', low_memory=False)\n",
        "df_QUALITY2016 = pd.read_csv('QualityMsrMDS_2016.csv', encoding='utf-8', low_memory=False)\n",
        "df_QUALITY2017 = pd.read_csv('QualityMsrMDS_2017.csv', encoding='utf-8', low_memory=False)\n",
        "df_QUALITY2018 = pd.read_csv('QualityMsrMDS_2018.csv', encoding='utf-8', low_memory=False)\n",
        "df_QUALITY2019 = pd.read_csv('QualityMsrMDS_2019.csv', encoding='utf-8', low_memory=False)\n",
        "df_QUALITY2020 = pd.read_csv('QualityMsrMDS_2020.csv', encoding='utf-8', low_memory=False)\n",
        "df_QUALITY2021 = pd.read_csv('QualityMsrMDS_2021.csv', encoding='utf-8', low_memory=False)"
      ],
      "metadata": {
        "id": "N_iUirCjFuQF"
      },
      "execution_count": null,
      "outputs": []
    },
    {
      "cell_type": "code",
      "source": [
        "print(df_QUALITY2015.dtypes.to_string())\n"
      ],
      "metadata": {
        "colab": {
          "base_uri": "https://localhost:8080/"
        },
        "id": "e4pQra0XRVwD",
        "outputId": "a3435b0a-04bb-4cad-b8cc-ffdc11e72c8f"
      },
      "execution_count": null,
      "outputs": [
        {
          "output_type": "stream",
          "name": "stdout",
          "text": [
            "provnum                    object\n",
            "provname                   object\n",
            "address                    object\n",
            "city                       object\n",
            "state                      object\n",
            "zip                         int64\n",
            "msr_cd                      int64\n",
            "msr_descr                  object\n",
            "stay_type                  object\n",
            "q1_measure_score          float64\n",
            "q1_measure_fn              object\n",
            "q2_measure_score          float64\n",
            "q2_measure_fn              object\n",
            "q3_measure_score          float64\n",
            "q3_measure_fn              object\n",
            "measure_score_3qtr_avg    float64\n",
            "score3qtr_fn               object\n",
            "five_star_msr              object\n",
            "q1_quarter                 object\n",
            "q2_quarter                 object\n",
            "q3_quarter                 object\n",
            "filedate                   object\n"
          ]
        }
      ]
    },
    {
      "cell_type": "markdown",
      "source": [
        "###**Clean the attribute names to match across all years**\n",
        "\n",
        "\n"
      ],
      "metadata": {
        "id": "h_18nPpjSU2W"
      }
    },
    {
      "cell_type": "code",
      "source": [
        "df_QUALITY2015.columns = df_QUALITY2015.columns.str.upper()\n"
      ],
      "metadata": {
        "id": "eCZjoQhDSYQG"
      },
      "execution_count": null,
      "outputs": []
    },
    {
      "cell_type": "code",
      "source": [
        "# Define the mapping of old column names to new column names\n",
        "column_mapping2 = {\n",
        "    'Federal Provider Number': 'PROVNUM',\n",
        "    'Provider Name': 'PROVNAME',\n",
        "    'Provider Address': 'ADDRESS',\n",
        "    'Provider City': 'CITY',\n",
        "    'Provider State': 'STATE',\n",
        "    'Provider Zip Code': 'ZIP',\n",
        "    'Measure Code': 'MSR_CD',\n",
        "    'Measure Description': 'MSR_DESCR',\n",
        "    'Resident type': 'STAY_TYPE',\n",
        "    'Q1 Measure Score': 'Q1_MEASURE_SCORE',\n",
        "    'Footnote for Q1 Measure Score': 'Q1_MEASURE_FN',\n",
        "    'Q2 Measure Score': 'Q2_MEASURE_SCORE',\n",
        "    'Footnote for Q2 Measure Score': 'Q2_MEASURE_FN',\n",
        "    'Q3 Measure Score': 'Q3_MEASURE_SCORE',\n",
        "    'Footnote for Q3 Measure Score': 'Q3_MEASURE_FN',\n",
        "    'Q4 Measure Score': 'Q4_MEASURE_SCORE',\n",
        "    'Footnote for Q4 Measure Score': 'Q4_MEASURE_FN',\n",
        "    'Four Quarter Average Score': 'MEASURE_SCORE_4QTR_AVG',\n",
        "    'Footnote for Four Quarter Average Score': 'SCORE4QTR_FN',\n",
        "    'Used in Quality Measure Five Star Rating': 'FIVE_STAR_MSR',\n",
        "    'Measure Period': 'MEASURE_PERIOD',\n",
        "    'Processing Date': 'FILEDATE'}\n",
        "\n",
        "# Rename the columns\n",
        "df_QUALITY2020.rename(columns=column_mapping2, inplace=True)\n",
        "df_QUALITY2021.rename(columns=column_mapping2, inplace=True)\n"
      ],
      "metadata": {
        "id": "rAQKWUycTeDn"
      },
      "execution_count": null,
      "outputs": []
    },
    {
      "cell_type": "markdown",
      "source": [
        "### **Check for matching columns across all Quality dataset files.**"
      ],
      "metadata": {
        "id": "po1zLuL8Ur08"
      }
    },
    {
      "cell_type": "code",
      "source": [
        "# Getting column names of each DataFrame\n",
        "columns_QUALITY2015 = df_QUALITY2015.columns\n",
        "columns_QUALITY2016 = df_QUALITY2016.columns\n",
        "columns_QUALITY2017 = df_QUALITY2017.columns\n",
        "columns_QUALITY2018 = df_QUALITY2018.columns\n",
        "columns_QUALITY2019 = df_QUALITY2019.columns\n",
        "columns_QUALITY2020 = df_QUALITY2020.columns\n",
        "columns_QUALITY2021 = df_QUALITY2021.columns\n",
        "\n",
        "# Finding common attributes\n",
        "common_QUALITYattributes = set(columns_QUALITY2015) & set(columns_QUALITY2016) & set(columns_QUALITY2017) & set(columns_QUALITY2018) & set(columns_QUALITY2019) & set(columns_QUALITY2020) & set(columns_QUALITY2021)\n",
        "\n",
        "# Print common attributes\n",
        "print(\"Common attributes among all datasets:\")\n",
        "print(common_QUALITYattributes)"
      ],
      "metadata": {
        "colab": {
          "base_uri": "https://localhost:8080/"
        },
        "id": "zhs7rnaDTFNW",
        "outputId": "d0576330-be34-46ca-c862-7b32abc67977"
      },
      "execution_count": null,
      "outputs": [
        {
          "output_type": "stream",
          "name": "stdout",
          "text": [
            "Common attributes among all datasets:\n",
            "{'PROVNUM', 'Q1_MEASURE_SCORE', 'Q3_MEASURE_FN', 'MSR_DESCR', 'STATE', 'FIVE_STAR_MSR', 'PROVNAME', 'Q2_MEASURE_FN', 'ADDRESS', 'ZIP', 'MSR_CD', 'CITY', 'FILEDATE', 'Q1_MEASURE_FN', 'Q3_MEASURE_SCORE', 'Q2_MEASURE_SCORE', 'STAY_TYPE'}\n"
          ]
        }
      ]
    },
    {
      "cell_type": "code",
      "source": [
        "#Add a column to each year's dataset that lists the year\n",
        "df_QUALITY2015['Year'] = 2015\n",
        "df_QUALITY2016['Year'] = 2016\n",
        "df_QUALITY2017['Year'] = 2017\n",
        "df_QUALITY2018['Year'] = 2018\n",
        "df_QUALITY2019['Year'] = 2019\n",
        "df_QUALITY2020['Year'] = 2020\n",
        "df_QUALITY2021['Year'] = 2021\n",
        "\n",
        "# Concatenate the DataFrames\n",
        "concatQUALITY_df = pd.concat([df_QUALITY2015, df_QUALITY2016, df_QUALITY2017, df_QUALITY2018, df_QUALITY2019, df_QUALITY2020, df_QUALITY2021], ignore_index=True)"
      ],
      "metadata": {
        "id": "2ow697A7VbZz"
      },
      "execution_count": null,
      "outputs": []
    },
    {
      "cell_type": "markdown",
      "source": [
        "## **Export concatenated dfs for each dataset**"
      ],
      "metadata": {
        "id": "NNf8HxiYXTNX"
      }
    },
    {
      "cell_type": "code",
      "source": [
        "concatCOST_df.to_csv('concatCOST_df.csv', index=False)\n"
      ],
      "metadata": {
        "id": "g0LjkZf5XZO2"
      },
      "execution_count": null,
      "outputs": []
    },
    {
      "cell_type": "code",
      "source": [
        "concatPENALTY_df.to_csv('concatPENALTY_df.csv', index=False)"
      ],
      "metadata": {
        "id": "e62OrwMKXwEk"
      },
      "execution_count": null,
      "outputs": []
    },
    {
      "cell_type": "code",
      "source": [
        "concatPROVIDER_df.to_csv('concatPROVIDER_df.csv', index=False)"
      ],
      "metadata": {
        "id": "8JJXmRxBX27-"
      },
      "execution_count": null,
      "outputs": []
    },
    {
      "cell_type": "code",
      "source": [
        "concatQUALITY_df.to_csv('concatQUALITY_df.csv', index=False)"
      ],
      "metadata": {
        "id": "Cv2eT7ldX_ik"
      },
      "execution_count": null,
      "outputs": []
    },
    {
      "cell_type": "code",
      "source": [
        "# Define the columns to group by\n",
        "group_by_columns = ['PROVNUM', 'PROVNAME']\n",
        "\n",
        "# Define the numeric columns for which you want to calculate averages\n",
        "numeric_columns = ['Q1_MEASURE_SCORE', 'Q2_MEASURE_SCORE', 'Q3_MEASURE_SCORE', 'MEASURE_SCORE_3QTR_AVG', 'Q4_MEASURE_SCORE', 'MEASURE_SCORE_4QTR_AVG']\n",
        "\n",
        "# Group by the specified columns and calculate the averages of numeric columns\n",
        "grouped_df = concatQUALITY_df.groupby(group_by_columns)[numeric_columns].mean().reset_index()\n",
        "\n",
        "# Save the grouped DataFrame to a CSV file\n",
        "grouped_df.to_csv('grouped_quality_data1.csv', index=False)"
      ],
      "metadata": {
        "id": "YfSRxCNDgPV5"
      },
      "execution_count": null,
      "outputs": []
    }
  ]
}